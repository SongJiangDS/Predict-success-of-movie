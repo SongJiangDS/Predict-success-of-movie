{
 "cells": [
  {
   "cell_type": "markdown",
   "metadata": {
    "_cell_guid": "77e09526-6c13-4e92-9806-798aff7cab41",
    "_uuid": "b3d586b8aa5401ff796f9d39ef5b6c46a5428d09"
   },
   "source": [
    "#  Predict Film Success "
   ]
  },
  {
   "cell_type": "markdown",
   "metadata": {
    "_cell_guid": "32c2e348-6023-4595-8d0c-20742a4346e1",
    "_uuid": "4c403868e5bfae712849cc403b1cb6f9b63e5ac6"
   },
   "source": [
    "## Importing Libraries & Loading Data"
   ]
  },
  {
   "cell_type": "code",
   "execution_count": 1,
   "metadata": {
    "_cell_guid": "7da7ec20-ba9f-4806-bf4b-dfd36f1e308b",
    "_uuid": "d2b3e1bc447f0b359d863af1de61e56f4e2c8e26"
   },
   "outputs": [
    {
     "data": {
      "text/html": [
       "<script>requirejs.config({paths: { 'plotly': ['https://cdn.plot.ly/plotly-latest.min']},});if(!window.Plotly) {{require(['plotly'],function(plotly) {window.Plotly=plotly;});}}</script>"
      ],
      "text/vnd.plotly.v1+html": [
       "<script>requirejs.config({paths: { 'plotly': ['https://cdn.plot.ly/plotly-latest.min']},});if(!window.Plotly) {{require(['plotly'],function(plotly) {window.Plotly=plotly;});}}</script>"
      ]
     },
     "metadata": {},
     "output_type": "display_data"
    },
    {
     "name": "stderr",
     "output_type": "stream",
     "text": [
      "D:\\Anaconda\\Anaconda3\\lib\\site-packages\\sklearn\\cross_validation.py:41: DeprecationWarning:\n",
      "\n",
      "This module was deprecated in version 0.18 in favor of the model_selection module into which all the refactored classes and functions are moved. Also note that the interface of the new CV iterators are different from that of this module. This module will be removed in 0.20.\n",
      "\n"
     ]
    }
   ],
   "source": [
    "import numpy as np\n",
    "import pandas as pd\n",
    "import seaborn as sns\n",
    "import matplotlib.pyplot as plt\n",
    "%matplotlib inline\n",
    "sns.set_style('whitegrid')\n",
    "sns.set(font_scale=1.25)\n",
    "pd.set_option('display.max_colwidth', 50)\n",
    "\n",
    "import json\n",
    "import datetime\n",
    "import ast\n",
    "\n",
    "from scipy import stats\n",
    "\n",
    "from wordcloud import WordCloud, STOPWORDS\n",
    "import plotly\n",
    "import plotly.offline as py\n",
    "py.init_notebook_mode(connected=True)\n",
    "import plotly.graph_objs as go\n",
    "import plotly.tools as tls\n",
    "from IPython.display import Image, HTML\n",
    "\n",
    "from sklearn.ensemble import GradientBoostingClassifier, GradientBoostingRegressor\n",
    "from sklearn.dummy import DummyClassifier, DummyRegressor\n",
    "from sklearn.model_selection import train_test_split\n",
    "from xgboost import XGBClassifier, XGBRegressor\n",
    "\n",
    "import warnings\n",
    "warnings.filterwarnings('ignore')"
   ]
  },
  {
   "cell_type": "code",
   "execution_count": 2,
   "metadata": {
    "_cell_guid": "802ba741-2c66-420c-bd74-afc45a49a4c1",
    "_uuid": "930e0aa58d8c885194b3c84e61e4e2393f87a675",
    "scrolled": false
   },
   "outputs": [],
   "source": [
    "df = pd.read_csv('E:/Data Science/Experience/Movies_Dataset/movies_data.csv')"
   ]
  },
  {
   "cell_type": "markdown",
   "metadata": {},
   "source": [
    "## Overview the Dataset"
   ]
  },
  {
   "cell_type": "code",
   "execution_count": 3,
   "metadata": {},
   "outputs": [
    {
     "data": {
      "text/html": [
       "<div>\n",
       "<style scoped>\n",
       "    .dataframe tbody tr th:only-of-type {\n",
       "        vertical-align: middle;\n",
       "    }\n",
       "\n",
       "    .dataframe tbody tr th {\n",
       "        vertical-align: top;\n",
       "    }\n",
       "\n",
       "    .dataframe thead th {\n",
       "        text-align: right;\n",
       "    }\n",
       "</style>\n",
       "<table border=\"1\" class=\"dataframe\">\n",
       "  <thead>\n",
       "    <tr style=\"text-align: right;\">\n",
       "      <th></th>\n",
       "      <th>adult</th>\n",
       "      <th>belongs_to_collection</th>\n",
       "      <th>budget</th>\n",
       "      <th>genres</th>\n",
       "      <th>homepage</th>\n",
       "      <th>id</th>\n",
       "      <th>imdb_id</th>\n",
       "      <th>original_language</th>\n",
       "      <th>original_title</th>\n",
       "      <th>overview</th>\n",
       "      <th>...</th>\n",
       "      <th>release_date</th>\n",
       "      <th>revenue</th>\n",
       "      <th>runtime</th>\n",
       "      <th>spoken_languages</th>\n",
       "      <th>status</th>\n",
       "      <th>tagline</th>\n",
       "      <th>title</th>\n",
       "      <th>video</th>\n",
       "      <th>vote_average</th>\n",
       "      <th>vote_count</th>\n",
       "    </tr>\n",
       "  </thead>\n",
       "  <tbody>\n",
       "    <tr>\n",
       "      <th>0</th>\n",
       "      <td>False</td>\n",
       "      <td>{'id': 10194, 'name': 'Toy Story Collection', ...</td>\n",
       "      <td>30000000</td>\n",
       "      <td>[{'id': 16, 'name': 'Animation'}, {'id': 35, '...</td>\n",
       "      <td>http://toystory.disney.com/toy-story</td>\n",
       "      <td>862</td>\n",
       "      <td>tt0114709</td>\n",
       "      <td>en</td>\n",
       "      <td>Toy Story</td>\n",
       "      <td>Led by Woody, Andy's toys live happily in his ...</td>\n",
       "      <td>...</td>\n",
       "      <td>1995-10-30</td>\n",
       "      <td>373554033.0</td>\n",
       "      <td>81.0</td>\n",
       "      <td>[{'iso_639_1': 'en', 'name': 'English'}]</td>\n",
       "      <td>Released</td>\n",
       "      <td>NaN</td>\n",
       "      <td>Toy Story</td>\n",
       "      <td>False</td>\n",
       "      <td>7.7</td>\n",
       "      <td>5415.0</td>\n",
       "    </tr>\n",
       "    <tr>\n",
       "      <th>1</th>\n",
       "      <td>False</td>\n",
       "      <td>NaN</td>\n",
       "      <td>65000000</td>\n",
       "      <td>[{'id': 12, 'name': 'Adventure'}, {'id': 14, '...</td>\n",
       "      <td>NaN</td>\n",
       "      <td>8844</td>\n",
       "      <td>tt0113497</td>\n",
       "      <td>en</td>\n",
       "      <td>Jumanji</td>\n",
       "      <td>When siblings Judy and Peter discover an encha...</td>\n",
       "      <td>...</td>\n",
       "      <td>1995-12-15</td>\n",
       "      <td>262797249.0</td>\n",
       "      <td>104.0</td>\n",
       "      <td>[{'iso_639_1': 'en', 'name': 'English'}, {'iso...</td>\n",
       "      <td>Released</td>\n",
       "      <td>Roll the dice and unleash the excitement!</td>\n",
       "      <td>Jumanji</td>\n",
       "      <td>False</td>\n",
       "      <td>6.9</td>\n",
       "      <td>2413.0</td>\n",
       "    </tr>\n",
       "    <tr>\n",
       "      <th>2</th>\n",
       "      <td>False</td>\n",
       "      <td>{'id': 119050, 'name': 'Grumpy Old Men Collect...</td>\n",
       "      <td>0</td>\n",
       "      <td>[{'id': 10749, 'name': 'Romance'}, {'id': 35, ...</td>\n",
       "      <td>NaN</td>\n",
       "      <td>15602</td>\n",
       "      <td>tt0113228</td>\n",
       "      <td>en</td>\n",
       "      <td>Grumpier Old Men</td>\n",
       "      <td>A family wedding reignites the ancient feud be...</td>\n",
       "      <td>...</td>\n",
       "      <td>1995-12-22</td>\n",
       "      <td>0.0</td>\n",
       "      <td>101.0</td>\n",
       "      <td>[{'iso_639_1': 'en', 'name': 'English'}]</td>\n",
       "      <td>Released</td>\n",
       "      <td>Still Yelling. Still Fighting. Still Ready for...</td>\n",
       "      <td>Grumpier Old Men</td>\n",
       "      <td>False</td>\n",
       "      <td>6.5</td>\n",
       "      <td>92.0</td>\n",
       "    </tr>\n",
       "    <tr>\n",
       "      <th>3</th>\n",
       "      <td>False</td>\n",
       "      <td>NaN</td>\n",
       "      <td>16000000</td>\n",
       "      <td>[{'id': 35, 'name': 'Comedy'}, {'id': 18, 'nam...</td>\n",
       "      <td>NaN</td>\n",
       "      <td>31357</td>\n",
       "      <td>tt0114885</td>\n",
       "      <td>en</td>\n",
       "      <td>Waiting to Exhale</td>\n",
       "      <td>Cheated on, mistreated and stepped on, the wom...</td>\n",
       "      <td>...</td>\n",
       "      <td>1995-12-22</td>\n",
       "      <td>81452156.0</td>\n",
       "      <td>127.0</td>\n",
       "      <td>[{'iso_639_1': 'en', 'name': 'English'}]</td>\n",
       "      <td>Released</td>\n",
       "      <td>Friends are the people who let you be yourself...</td>\n",
       "      <td>Waiting to Exhale</td>\n",
       "      <td>False</td>\n",
       "      <td>6.1</td>\n",
       "      <td>34.0</td>\n",
       "    </tr>\n",
       "    <tr>\n",
       "      <th>4</th>\n",
       "      <td>False</td>\n",
       "      <td>{'id': 96871, 'name': 'Father of the Bride Col...</td>\n",
       "      <td>0</td>\n",
       "      <td>[{'id': 35, 'name': 'Comedy'}]</td>\n",
       "      <td>NaN</td>\n",
       "      <td>11862</td>\n",
       "      <td>tt0113041</td>\n",
       "      <td>en</td>\n",
       "      <td>Father of the Bride Part II</td>\n",
       "      <td>Just when George Banks has recovered from his ...</td>\n",
       "      <td>...</td>\n",
       "      <td>1995-02-10</td>\n",
       "      <td>76578911.0</td>\n",
       "      <td>106.0</td>\n",
       "      <td>[{'iso_639_1': 'en', 'name': 'English'}]</td>\n",
       "      <td>Released</td>\n",
       "      <td>Just When His World Is Back To Normal... He's ...</td>\n",
       "      <td>Father of the Bride Part II</td>\n",
       "      <td>False</td>\n",
       "      <td>5.7</td>\n",
       "      <td>173.0</td>\n",
       "    </tr>\n",
       "  </tbody>\n",
       "</table>\n",
       "<p>5 rows × 24 columns</p>\n",
       "</div>"
      ],
      "text/plain": [
       "   adult                              belongs_to_collection    budget  \\\n",
       "0  False  {'id': 10194, 'name': 'Toy Story Collection', ...  30000000   \n",
       "1  False                                                NaN  65000000   \n",
       "2  False  {'id': 119050, 'name': 'Grumpy Old Men Collect...         0   \n",
       "3  False                                                NaN  16000000   \n",
       "4  False  {'id': 96871, 'name': 'Father of the Bride Col...         0   \n",
       "\n",
       "                                              genres  \\\n",
       "0  [{'id': 16, 'name': 'Animation'}, {'id': 35, '...   \n",
       "1  [{'id': 12, 'name': 'Adventure'}, {'id': 14, '...   \n",
       "2  [{'id': 10749, 'name': 'Romance'}, {'id': 35, ...   \n",
       "3  [{'id': 35, 'name': 'Comedy'}, {'id': 18, 'nam...   \n",
       "4                     [{'id': 35, 'name': 'Comedy'}]   \n",
       "\n",
       "                               homepage     id    imdb_id original_language  \\\n",
       "0  http://toystory.disney.com/toy-story    862  tt0114709                en   \n",
       "1                                   NaN   8844  tt0113497                en   \n",
       "2                                   NaN  15602  tt0113228                en   \n",
       "3                                   NaN  31357  tt0114885                en   \n",
       "4                                   NaN  11862  tt0113041                en   \n",
       "\n",
       "                original_title  \\\n",
       "0                    Toy Story   \n",
       "1                      Jumanji   \n",
       "2             Grumpier Old Men   \n",
       "3            Waiting to Exhale   \n",
       "4  Father of the Bride Part II   \n",
       "\n",
       "                                            overview    ...     release_date  \\\n",
       "0  Led by Woody, Andy's toys live happily in his ...    ...       1995-10-30   \n",
       "1  When siblings Judy and Peter discover an encha...    ...       1995-12-15   \n",
       "2  A family wedding reignites the ancient feud be...    ...       1995-12-22   \n",
       "3  Cheated on, mistreated and stepped on, the wom...    ...       1995-12-22   \n",
       "4  Just when George Banks has recovered from his ...    ...       1995-02-10   \n",
       "\n",
       "       revenue runtime                                   spoken_languages  \\\n",
       "0  373554033.0    81.0           [{'iso_639_1': 'en', 'name': 'English'}]   \n",
       "1  262797249.0   104.0  [{'iso_639_1': 'en', 'name': 'English'}, {'iso...   \n",
       "2          0.0   101.0           [{'iso_639_1': 'en', 'name': 'English'}]   \n",
       "3   81452156.0   127.0           [{'iso_639_1': 'en', 'name': 'English'}]   \n",
       "4   76578911.0   106.0           [{'iso_639_1': 'en', 'name': 'English'}]   \n",
       "\n",
       "     status                                            tagline  \\\n",
       "0  Released                                                NaN   \n",
       "1  Released          Roll the dice and unleash the excitement!   \n",
       "2  Released  Still Yelling. Still Fighting. Still Ready for...   \n",
       "3  Released  Friends are the people who let you be yourself...   \n",
       "4  Released  Just When His World Is Back To Normal... He's ...   \n",
       "\n",
       "                         title  video vote_average vote_count  \n",
       "0                    Toy Story  False          7.7     5415.0  \n",
       "1                      Jumanji  False          6.9     2413.0  \n",
       "2             Grumpier Old Men  False          6.5       92.0  \n",
       "3            Waiting to Exhale  False          6.1       34.0  \n",
       "4  Father of the Bride Part II  False          5.7      173.0  \n",
       "\n",
       "[5 rows x 24 columns]"
      ]
     },
     "execution_count": 3,
     "metadata": {},
     "output_type": "execute_result"
    }
   ],
   "source": [
    "df.head()"
   ]
  },
  {
   "cell_type": "code",
   "execution_count": 4,
   "metadata": {
    "_cell_guid": "2aa45102-eb7d-4654-a381-910c9fb2a9b2",
    "_uuid": "767b6372ddc8ac76d1e59fed5002669606770245"
   },
   "outputs": [
    {
     "name": "stdout",
     "output_type": "stream",
     "text": [
      "<class 'pandas.core.frame.DataFrame'>\n",
      "RangeIndex: 45466 entries, 0 to 45465\n",
      "Data columns (total 24 columns):\n",
      "adult                    45466 non-null object\n",
      "belongs_to_collection    4494 non-null object\n",
      "budget                   45466 non-null object\n",
      "genres                   45466 non-null object\n",
      "homepage                 7782 non-null object\n",
      "id                       45466 non-null object\n",
      "imdb_id                  45449 non-null object\n",
      "original_language        45455 non-null object\n",
      "original_title           45466 non-null object\n",
      "overview                 44512 non-null object\n",
      "popularity               45461 non-null object\n",
      "poster_path              45080 non-null object\n",
      "production_companies     45463 non-null object\n",
      "production_countries     45463 non-null object\n",
      "release_date             45379 non-null object\n",
      "revenue                  45460 non-null float64\n",
      "runtime                  45203 non-null float64\n",
      "spoken_languages         45460 non-null object\n",
      "status                   45379 non-null object\n",
      "tagline                  20412 non-null object\n",
      "title                    45460 non-null object\n",
      "video                    45460 non-null object\n",
      "vote_average             45460 non-null float64\n",
      "vote_count               45460 non-null float64\n",
      "dtypes: float64(4), object(20)\n",
      "memory usage: 8.3+ MB\n"
     ]
    }
   ],
   "source": [
    "df.info()"
   ]
  },
  {
   "cell_type": "markdown",
   "metadata": {
    "_cell_guid": "c69b73e9-30bd-463a-8ff5-b4d1ef60ae33",
    "_uuid": "7f60f6a2618fa990957de5d0b3707fa018725d73"
   },
   "source": [
    "## Data Wrangling"
   ]
  },
  {
   "cell_type": "markdown",
   "metadata": {},
   "source": [
    "First I will removing the features that are not useful to us."
   ]
  },
  {
   "cell_type": "code",
   "execution_count": 5,
   "metadata": {},
   "outputs": [
    {
     "data": {
      "text/plain": [
       "False                                                                                                                             45454\n",
       "True                                                                                                                                  9\n",
       " - Written by Ørnås                                                                                                                   1\n",
       " Rune Balot goes to a casino connected to the October corporation to try to wrap up her case once and for all.                        1\n",
       " Avalanche Sharks tells the story of a bikini contest that turns into a horrifying affair when it is hit by a shark avalanche.        1\n",
       "Name: adult, dtype: int64"
      ]
     },
     "execution_count": 5,
     "metadata": {},
     "output_type": "execute_result"
    }
   ],
   "source": [
    "df['adult'].value_counts()"
   ]
  },
  {
   "cell_type": "code",
   "execution_count": 6,
   "metadata": {},
   "outputs": [],
   "source": [
    "df = df.drop('adult', axis=1)"
   ]
  },
  {
   "cell_type": "code",
   "execution_count": 7,
   "metadata": {
    "_cell_guid": "15fa55a6-7a6c-4531-84b9-7ced47ced5af",
    "_uuid": "c592fd468ad5d02e9ce032155a71e635ce5ba7ec"
   },
   "outputs": [],
   "source": [
    "df = df.drop(['imdb_id'], axis=1)"
   ]
  },
  {
   "cell_type": "code",
   "execution_count": 8,
   "metadata": {
    "_cell_guid": "29bf4898-a176-499c-9075-979009129fdc",
    "_uuid": "1e8fb4684602fecd1ada5734003cc888ad70497f"
   },
   "outputs": [
    {
     "data": {
      "text/html": [
       "<div>\n",
       "<style scoped>\n",
       "    .dataframe tbody tr th:only-of-type {\n",
       "        vertical-align: middle;\n",
       "    }\n",
       "\n",
       "    .dataframe tbody tr th {\n",
       "        vertical-align: top;\n",
       "    }\n",
       "\n",
       "    .dataframe thead th {\n",
       "        text-align: right;\n",
       "    }\n",
       "</style>\n",
       "<table border=\"1\" class=\"dataframe\">\n",
       "  <thead>\n",
       "    <tr style=\"text-align: right;\">\n",
       "      <th></th>\n",
       "      <th>title</th>\n",
       "      <th>original_title</th>\n",
       "    </tr>\n",
       "  </thead>\n",
       "  <tbody>\n",
       "    <tr>\n",
       "      <th>28</th>\n",
       "      <td>The City of Lost Children</td>\n",
       "      <td>La Cité des Enfants Perdus</td>\n",
       "    </tr>\n",
       "    <tr>\n",
       "      <th>29</th>\n",
       "      <td>Shanghai Triad</td>\n",
       "      <td>摇啊摇，摇到外婆桥</td>\n",
       "    </tr>\n",
       "    <tr>\n",
       "      <th>32</th>\n",
       "      <td>Wings of Courage</td>\n",
       "      <td>Guillaumet, les ailes du courage</td>\n",
       "    </tr>\n",
       "    <tr>\n",
       "      <th>57</th>\n",
       "      <td>The Postman</td>\n",
       "      <td>Il postino</td>\n",
       "    </tr>\n",
       "    <tr>\n",
       "      <th>58</th>\n",
       "      <td>The Confessional</td>\n",
       "      <td>Le confessionnal</td>\n",
       "    </tr>\n",
       "  </tbody>\n",
       "</table>\n",
       "</div>"
      ],
      "text/plain": [
       "                        title                    original_title\n",
       "28  The City of Lost Children        La Cité des Enfants Perdus\n",
       "29             Shanghai Triad                         摇啊摇，摇到外婆桥\n",
       "32           Wings of Courage  Guillaumet, les ailes du courage\n",
       "57                The Postman                        Il postino\n",
       "58           The Confessional                  Le confessionnal"
      ]
     },
     "execution_count": 8,
     "metadata": {},
     "output_type": "execute_result"
    }
   ],
   "source": [
    "df[df['original_title'] != df['title']][['title', 'original_title']].head()"
   ]
  },
  {
   "cell_type": "code",
   "execution_count": 9,
   "metadata": {
    "_cell_guid": "03c5007b-7b88-4f70-a385-c272bd0efa6c",
    "_uuid": "3787bf20b8216af5e7db885efe72ffc14df532e3"
   },
   "outputs": [],
   "source": [
    "df = df.drop('original_title', axis=1)"
   ]
  },
  {
   "cell_type": "code",
   "execution_count": 10,
   "metadata": {
    "_cell_guid": "e2ef36e1-ab26-4c3f-8a08-e0f8d1e4a97d",
    "_uuid": "3d6a11854e9953c449888c63c779abd3b413aacb"
   },
   "outputs": [
    {
     "data": {
      "text/plain": [
       "(38052, 21)"
      ]
     },
     "execution_count": 10,
     "metadata": {},
     "output_type": "execute_result"
    }
   ],
   "source": [
    "df[df['revenue'] == 0].shape"
   ]
  },
  {
   "cell_type": "markdown",
   "metadata": {},
   "source": [
    "I have to construct two very important features: "
   ]
  },
  {
   "cell_type": "markdown",
   "metadata": {},
   "source": [
    "1) return: the ratio of revenue to budget "
   ]
  },
  {
   "cell_type": "code",
   "execution_count": 11,
   "metadata": {
    "_cell_guid": "7d2e9124-a792-4c4b-af0e-fd27b9291496",
    "_uuid": "65f1ef9699df66653b5deb14caf6f2c665d19bc8"
   },
   "outputs": [],
   "source": [
    "df['revenue'] = df['revenue'].replace(0, np.nan)"
   ]
  },
  {
   "cell_type": "code",
   "execution_count": 12,
   "metadata": {
    "_cell_guid": "930646b1-88ed-4998-80d9-38a14c7b14f2",
    "_uuid": "de9dcfb4a1e37b62dc8d9613d298d015a5406ef5"
   },
   "outputs": [
    {
     "data": {
      "text/plain": [
       "(36576, 21)"
      ]
     },
     "execution_count": 12,
     "metadata": {},
     "output_type": "execute_result"
    }
   ],
   "source": [
    "df['budget'] = pd.to_numeric(df['budget'], errors='coerce')\n",
    "df['budget'] = df['budget'].replace(0, np.nan)\n",
    "df[df['budget'].isnull()].shape"
   ]
  },
  {
   "cell_type": "code",
   "execution_count": 13,
   "metadata": {
    "_cell_guid": "f464aebd-d03d-49ea-972a-fc4e0dfa5841",
    "_uuid": "b77978c2209bdf040d07ca4ca2cb438df8cd582f",
    "scrolled": true
   },
   "outputs": [
    {
     "data": {
      "text/plain": [
       "(40085, 22)"
      ]
     },
     "execution_count": 13,
     "metadata": {},
     "output_type": "execute_result"
    }
   ],
   "source": [
    "df['return'] = df['revenue'] / df['budget']\n",
    "df[df['return'].isnull()].shape"
   ]
  },
  {
   "cell_type": "markdown",
   "metadata": {},
   "source": [
    "2) year: the year in which the movie was released "
   ]
  },
  {
   "cell_type": "code",
   "execution_count": 14,
   "metadata": {
    "_cell_guid": "38298607-dc40-4ecc-8068-eab3d2d28846",
    "_uuid": "9ac209eed85041c467586d7e7a53be5d2b81a4bd"
   },
   "outputs": [],
   "source": [
    "df['year'] = pd.to_datetime(df['release_date'], errors='coerce').apply(lambda x: str(x).split('-')[0] if x != np.nan else np.nan)"
   ]
  },
  {
   "cell_type": "code",
   "execution_count": 15,
   "metadata": {
    "_cell_guid": "3b95edee-5832-48e9-8a74-1fffee55bb03",
    "_uuid": "cea96a3f1e3634c02e5b8c6a87e5cb62539ea2b8"
   },
   "outputs": [],
   "source": [
    "base_poster_url = 'http://image.tmdb.org/t/p/w185/'\n",
    "df['poster_path'] = \"<img src='\" + base_poster_url + df['poster_path'] + \"' style='height:100px;'>\""
   ]
  },
  {
   "cell_type": "markdown",
   "metadata": {
    "_cell_guid": "b1b8f4a3-febe-4fec-a0d2-513d3fedfdbc",
    "_uuid": "a23f7313a3f4cae2505122de167a3224e142ff5e"
   },
   "source": [
    "## Exploratory Data Analysis\n",
    "### Overview Title Wordclouds"
   ]
  },
  {
   "cell_type": "code",
   "execution_count": 16,
   "metadata": {
    "_cell_guid": "925be64f-6ac4-42e5-8a29-d8d1877004a3",
    "_uuid": "0285d463d7fe21da1e7a3a8f9b55857a1d4bf3a6"
   },
   "outputs": [],
   "source": [
    "df['title'] = df['title'].astype('str')\n",
    "title_corpus = ' '.join(df['title'])\n",
    "df['overview'] = df['overview'].astype('str')\n",
    "overview_corpus = ' '.join(df['overview'])"
   ]
  },
  {
   "cell_type": "code",
   "execution_count": 17,
   "metadata": {
    "_cell_guid": "8bea7150-7957-4bd2-9816-6cb44ca50bbb",
    "_uuid": "6de442a39614aa4e1e8771eac8e6d8bd15f073c7"
   },
   "outputs": [
    {
     "data": {
      "image/png": "[encoded data removed]",
      "text/plain": [
       "<matplotlib.figure.Figure at 0x298e5a3eef0>"
      ]
     },
     "metadata": {},
     "output_type": "display_data"
    }
   ],
   "source": [
    "title_wordcloud = WordCloud(stopwords=STOPWORDS, background_color='white', height=2000, width=4000).generate(title_corpus)\n",
    "plt.figure(figsize=(12,6))\n",
    "plt.imshow(title_wordcloud)\n",
    "plt.axis('off')\n",
    "plt.show()"
   ]
  },
  {
   "cell_type": "code",
   "execution_count": 18,
   "metadata": {
    "_cell_guid": "e82bb85b-0e5b-425d-abf9-da1af4b2b6b1",
    "_uuid": "48b0691c568b7e75c54612bcf4c7c47d7b7e1798"
   },
   "outputs": [
    {
     "data": {
      "image/png": "[encoded data removed]",
      "text/plain": [
       "<matplotlib.figure.Figure at 0x298e5a32c50>"
      ]
     },
     "metadata": {},
     "output_type": "display_data"
    }
   ],
   "source": [
    "overview_wordcloud = WordCloud(stopwords=STOPWORDS, background_color='white', height=2000, width=4000).generate(overview_corpus)\n",
    "plt.figure(figsize=(12,6))\n",
    "plt.imshow(overview_wordcloud)\n",
    "plt.axis('off')\n",
    "plt.show()"
   ]
  },
  {
   "cell_type": "markdown",
   "metadata": {
    "_cell_guid": "360833c9-203e-4c49-b0b9-8df6dbb9df05",
    "_uuid": "3df29bc7f05037eaf20ea545e5ac314f44283670",
    "collapsed": true
   },
   "source": [
    "### Production Countries"
   ]
  },
  {
   "cell_type": "code",
   "execution_count": 19,
   "metadata": {
    "_cell_guid": "e93627c3-a10c-45e0-904e-a4a59a682bd7",
    "_uuid": "13eed9ee078ec2de7e5fe964ac4996a69cc65278"
   },
   "outputs": [],
   "source": [
    "df['production_countries'] = df['production_countries'].fillna('[]').apply(ast.literal_eval)\n",
    "df['production_countries'] = df['production_countries'].apply(lambda x: [i['name'] for i in x] if isinstance(x, list) else [])"
   ]
  },
  {
   "cell_type": "code",
   "execution_count": 20,
   "metadata": {
    "_cell_guid": "909d09b8-cbf2-4951-81dd-cbc6641ce940",
    "_uuid": "33373ac323077d77fb9e849f064d40b7f3f761d8"
   },
   "outputs": [],
   "source": [
    "s = df.apply(lambda x: pd.Series(x['production_countries']),axis=1).stack().reset_index(level=1, drop=True)\n",
    "s.name = 'countries'"
   ]
  },
  {
   "cell_type": "code",
   "execution_count": 21,
   "metadata": {
    "_cell_guid": "4b10dfa9-7269-442a-8d82-a27834e15f5a",
    "_uuid": "b05e19b868406e2e941cd3b147bc70eb93f32815"
   },
   "outputs": [
    {
     "data": {
      "text/html": [
       "<div>\n",
       "<style scoped>\n",
       "    .dataframe tbody tr th:only-of-type {\n",
       "        vertical-align: middle;\n",
       "    }\n",
       "\n",
       "    .dataframe tbody tr th {\n",
       "        vertical-align: top;\n",
       "    }\n",
       "\n",
       "    .dataframe thead th {\n",
       "        text-align: right;\n",
       "    }\n",
       "</style>\n",
       "<table border=\"1\" class=\"dataframe\">\n",
       "  <thead>\n",
       "    <tr style=\"text-align: right;\">\n",
       "      <th></th>\n",
       "      <th>num_movies</th>\n",
       "      <th>country</th>\n",
       "    </tr>\n",
       "  </thead>\n",
       "  <tbody>\n",
       "    <tr>\n",
       "      <th>0</th>\n",
       "      <td>21153</td>\n",
       "      <td>United States of America</td>\n",
       "    </tr>\n",
       "    <tr>\n",
       "      <th>1</th>\n",
       "      <td>4094</td>\n",
       "      <td>United Kingdom</td>\n",
       "    </tr>\n",
       "    <tr>\n",
       "      <th>2</th>\n",
       "      <td>3940</td>\n",
       "      <td>France</td>\n",
       "    </tr>\n",
       "    <tr>\n",
       "      <th>3</th>\n",
       "      <td>2254</td>\n",
       "      <td>Germany</td>\n",
       "    </tr>\n",
       "    <tr>\n",
       "      <th>4</th>\n",
       "      <td>2169</td>\n",
       "      <td>Italy</td>\n",
       "    </tr>\n",
       "  </tbody>\n",
       "</table>\n",
       "</div>"
      ],
      "text/plain": [
       "   num_movies                   country\n",
       "0       21153  United States of America\n",
       "1        4094            United Kingdom\n",
       "2        3940                    France\n",
       "3        2254                   Germany\n",
       "4        2169                     Italy"
      ]
     },
     "execution_count": 21,
     "metadata": {},
     "output_type": "execute_result"
    }
   ],
   "source": [
    "con_df = df.drop('production_countries', axis=1).join(s)\n",
    "con_df = pd.DataFrame(con_df['countries'].value_counts())\n",
    "con_df['country'] = con_df.index\n",
    "con_df.columns = ['num_movies', 'country']\n",
    "con_df = con_df.reset_index().drop('index', axis=1)\n",
    "con_df.head()"
   ]
  },
  {
   "cell_type": "code",
   "execution_count": 22,
   "metadata": {
    "_cell_guid": "b30ddbd9-ff6f-4d2f-8d58-8b91fb0367c1",
    "_uuid": "4eb2a1b0e91270b46f6bc7bd81ed9a4523e5237d"
   },
   "outputs": [],
   "source": [
    "con_df = con_df[con_df['country'] != 'United States of America']"
   ]
  },
  {
   "cell_type": "code",
   "execution_count": 23,
   "metadata": {
    "_cell_guid": "0605ee15-90e8-45e3-a2a7-e4e76aac529d",
    "_uuid": "721c9ceb4debfeb42066dc7989c867aabe0339ad"
   },
   "outputs": [
    {
     "data": {
      "application/vnd.plotly.v1+json": {
       "data": [
        {
         "autocolorscale": false,
         "colorbar": {
          "autotick": false,
          "tickprefix": "",
          "title": "Production Countries"
         },
         "colorscale": [
          [
           0,
           "rgb(0, 255, 255)"
          ],
          [
           1,
           "rgb(0, 0, 255)"
          ]
         ],
         "locationmode": "country names",
         "locations": [
          "United Kingdom",
          "France",
          "Germany",
          "Italy",
          "Canada",
          "Japan",
          "Spain",
          "Russia",
          "India",
          "Hong Kong",
          "Sweden",
          "Australia",
          "South Korea",
          "Belgium",
          "Denmark",
          "Finland",
          "Netherlands",
          "China",
          "Mexico",
          "Poland",
          "Brazil",
          "Switzerland",
          "Argentina",
          "Ireland",
          "Czech Republic",
          "Austria",
          "Norway",
          "Hungary",
          "Greece",
          "Turkey",
          "Israel",
          "Romania",
          "Taiwan",
          "Portugal",
          "South Africa",
          "New Zealand",
          "Thailand",
          "Iran",
          "Serbia",
          "Luxembourg",
          "Philippines",
          "Croatia",
          "Chile",
          "Iceland",
          "Estonia",
          "Bulgaria",
          "Ukraine",
          "Singapore",
          "Lithuania",
          "Bosnia and Herzegovina",
          "Colombia",
          "Indonesia",
          "Morocco",
          "Slovenia",
          "Georgia",
          "Slovakia",
          "Peru",
          "Latvia",
          "United Arab Emirates",
          "Cuba",
          "Egypt",
          "Kazakhstan",
          "Soviet Union",
          "Venezuela",
          "Tunisia",
          "Uruguay",
          "Pakistan",
          "Lebanon",
          "Macedonia",
          "Senegal",
          "Qatar",
          "Malaysia",
          "Algeria",
          "Puerto Rico",
          "Palestinian Territory",
          "Vietnam",
          "Ecuador",
          "Bolivia",
          "Burkina Faso",
          "Belarus",
          "Malta",
          "Jordan",
          "Cambodia",
          "Iraq",
          "Afghanistan",
          "Liechtenstein",
          "Armenia",
          "Dominican Republic",
          "Cyprus",
          "Panama",
          "Montenegro",
          "Costa Rica",
          "Uzbekistan",
          "East Germany",
          "Nigeria",
          "Aruba",
          "Nepal",
          "Kyrgyz Republic",
          "Guatemala",
          "Cameroon",
          "Congo",
          "Bahamas",
          "Syrian Arab Republic",
          "Mauritania",
          "Ethiopia",
          "Albania",
          "Czechoslovakia",
          "Ghana",
          "Monaco",
          "Yugoslavia",
          "Rwanda",
          "Jamaica",
          "Bhutan",
          "Chad",
          "Tajikistan",
          "Libyan Arab Jamahiriya",
          "Liberia",
          "North Korea",
          "Botswana",
          "El Salvador",
          "Sri Lanka",
          "Mongolia",
          "Zimbabwe",
          "Nicaragua",
          "Lao People's Democratic Republic",
          "Angola",
          "Paraguay",
          "Serbia and Montenegro",
          "Kenya",
          "Namibia",
          "Trinidad and Tobago",
          "Uganda",
          "Macao",
          "Bangladesh",
          "Papua New Guinea",
          "Tanzania",
          "Saudi Arabia",
          "Azerbaijan",
          "Mali",
          "Cote D'Ivoire",
          "Barbados",
          "Moldova",
          "Madagascar",
          "Samoa",
          "Kuwait",
          "Gibraltar",
          "Cayman Islands",
          "Antarctica",
          "Brunei Darussalam",
          "United States Minor Outlying Islands",
          "French Southern Territories",
          "Netherlands Antilles",
          "Guinea",
          "French Polynesia",
          "Somalia",
          "Myanmar",
          "Bermuda",
          "Honduras",
          "Martinique"
         ],
         "marker": {
          "line": {
           "color": "rgb(180,180,180)",
           "width": 0.5
          }
         },
         "reversescale": false,
         "text": [
          "United Kingdom",
          "France",
          "Germany",
          "Italy",
          "Canada",
          "Japan",
          "Spain",
          "Russia",
          "India",
          "Hong Kong",
          "Sweden",
          "Australia",
          "South Korea",
          "Belgium",
          "Denmark",
          "Finland",
          "Netherlands",
          "China",
          "Mexico",
          "Poland",
          "Brazil",
          "Switzerland",
          "Argentina",
          "Ireland",
          "Czech Republic",
          "Austria",
          "Norway",
          "Hungary",
          "Greece",
          "Turkey",
          "Israel",
          "Romania",
          "Taiwan",
          "Portugal",
          "South Africa",
          "New Zealand",
          "Thailand",
          "Iran",
          "Serbia",
          "Luxembourg",
          "Philippines",
          "Croatia",
          "Chile",
          "Iceland",
          "Estonia",
          "Bulgaria",
          "Ukraine",
          "Singapore",
          "Lithuania",
          "Bosnia and Herzegovina",
          "Colombia",
          "Indonesia",
          "Morocco",
          "Slovenia",
          "Georgia",
          "Slovakia",
          "Peru",
          "Latvia",
          "United Arab Emirates",
          "Cuba",
          "Egypt",
          "Kazakhstan",
          "Soviet Union",
          "Venezuela",
          "Tunisia",
          "Uruguay",
          "Pakistan",
          "Lebanon",
          "Macedonia",
          "Senegal",
          "Qatar",
          "Malaysia",
          "Algeria",
          "Puerto Rico",
          "Palestinian Territory",
          "Vietnam",
          "Ecuador",
          "Bolivia",
          "Burkina Faso",
          "Belarus",
          "Malta",
          "Jordan",
          "Cambodia",
          "Iraq",
          "Afghanistan",
          "Liechtenstein",
          "Armenia",
          "Dominican Republic",
          "Cyprus",
          "Panama",
          "Montenegro",
          "Costa Rica",
          "Uzbekistan",
          "East Germany",
          "Nigeria",
          "Aruba",
          "Nepal",
          "Kyrgyz Republic",
          "Guatemala",
          "Cameroon",
          "Congo",
          "Bahamas",
          "Syrian Arab Republic",
          "Mauritania",
          "Ethiopia",
          "Albania",
          "Czechoslovakia",
          "Ghana",
          "Monaco",
          "Yugoslavia",
          "Rwanda",
          "Jamaica",
          "Bhutan",
          "Chad",
          "Tajikistan",
          "Libyan Arab Jamahiriya",
          "Liberia",
          "North Korea",
          "Botswana",
          "El Salvador",
          "Sri Lanka",
          "Mongolia",
          "Zimbabwe",
          "Nicaragua",
          "Lao People's Democratic Republic",
          "Angola",
          "Paraguay",
          "Serbia and Montenegro",
          "Kenya",
          "Namibia",
          "Trinidad and Tobago",
          "Uganda",
          "Macao",
          "Bangladesh",
          "Papua New Guinea",
          "Tanzania",
          "Saudi Arabia",
          "Azerbaijan",
          "Mali",
          "Cote D'Ivoire",
          "Barbados",
          "Moldova",
          "Madagascar",
          "Samoa",
          "Kuwait",
          "Gibraltar",
          "Cayman Islands",
          "Antarctica",
          "Brunei Darussalam",
          "United States Minor Outlying Islands",
          "French Southern Territories",
          "Netherlands Antilles",
          "Guinea",
          "French Polynesia",
          "Somalia",
          "Myanmar",
          "Bermuda",
          "Honduras",
          "Martinique"
         ],
         "type": "choropleth",
         "z": [
          4094,
          3940,
          2254,
          2169,
          1765,
          1648,
          964,
          912,
          828,
          596,
          588,
          570,
          495,
          447,
          386,
          383,
          375,
          372,
          329,
          319,
          291,
          254,
          254,
          225,
          209,
          209,
          203,
          175,
          169,
          165,
          147,
          142,
          129,
          128,
          125,
          123,
          116,
          106,
          106,
          90,
          83,
          78,
          68,
          68,
          59,
          56,
          55,
          41,
          36,
          35,
          34,
          33,
          33,
          32,
          30,
          30,
          30,
          29,
          27,
          25,
          25,
          23,
          20,
          19,
          18,
          18,
          18,
          15,
          15,
          14,
          14,
          13,
          13,
          13,
          11,
          10,
          10,
          10,
          10,
          9,
          9,
          9,
          9,
          8,
          8,
          8,
          8,
          8,
          7,
          7,
          7,
          6,
          6,
          6,
          6,
          6,
          6,
          6,
          6,
          5,
          5,
          5,
          5,
          5,
          5,
          5,
          4,
          4,
          4,
          4,
          4,
          4,
          4,
          4,
          3,
          3,
          3,
          3,
          3,
          3,
          3,
          3,
          3,
          3,
          3,
          3,
          3,
          3,
          3,
          3,
          2,
          2,
          2,
          2,
          2,
          2,
          2,
          2,
          2,
          2,
          1,
          1,
          1,
          1,
          1,
          1,
          1,
          1,
          1,
          1,
          1,
          1,
          1,
          1,
          1,
          1,
          1,
          1,
          1
         ]
        }
       ],
       "layout": {
        "geo": {
         "projection": {
          "type": "Mercator"
         },
         "showcoastlines": false,
         "showframe": false
        },
        "title": "Production Countries for the MovieLens Movies (Apart from US)"
       }
      },
      "text/html": [
       "<div id=\"e609ae54-b7a8-4016-a34f-7f1765ae7f4b\" style=\"height: 525px; width: 100%;\" class=\"plotly-graph-div\"></div><script type=\"text/javascript\">require([\"plotly\"], function(Plotly) { window.PLOTLYENV=window.PLOTLYENV || {};window.PLOTLYENV.BASE_URL=\"https://plot.ly\";Plotly.newPlot(\"e609ae54-b7a8-4016-a34f-7f1765ae7f4b\", [{\"type\": \"choropleth\", \"locations\": [\"United Kingdom\", \"France\", \"Germany\", \"Italy\", \"Canada\", \"Japan\", \"Spain\", \"Russia\", \"India\", \"Hong Kong\", \"Sweden\", \"Australia\", \"South Korea\", \"Belgium\", \"Denmark\", \"Finland\", \"Netherlands\", \"China\", \"Mexico\", \"Poland\", \"Brazil\", \"Switzerland\", \"Argentina\", \"Ireland\", \"Czech Republic\", \"Austria\", \"Norway\", \"Hungary\", \"Greece\", \"Turkey\", \"Israel\", \"Romania\", \"Taiwan\", \"Portugal\", \"South Africa\", \"New Zealand\", \"Thailand\", \"Iran\", \"Serbia\", \"Luxembourg\", \"Philippines\", \"Croatia\", \"Chile\", \"Iceland\", \"Estonia\", \"Bulgaria\", \"Ukraine\", \"Singapore\", \"Lithuania\", \"Bosnia and Herzegovina\", \"Colombia\", \"Indonesia\", \"Morocco\", \"Slovenia\", \"Georgia\", \"Slovakia\", \"Peru\", \"Latvia\", \"United Arab Emirates\", \"Cuba\", \"Egypt\", \"Kazakhstan\", \"Soviet Union\", \"Venezuela\", \"Tunisia\", \"Uruguay\", \"Pakistan\", \"Lebanon\", \"Macedonia\", \"Senegal\", \"Qatar\", \"Malaysia\", \"Algeria\", \"Puerto Rico\", \"Palestinian Territory\", \"Vietnam\", \"Ecuador\", \"Bolivia\", \"Burkina Faso\", \"Belarus\", \"Malta\", \"Jordan\", \"Cambodia\", \"Iraq\", \"Afghanistan\", \"Liechtenstein\", \"Armenia\", \"Dominican Republic\", \"Cyprus\", \"Panama\", \"Montenegro\", \"Costa Rica\", \"Uzbekistan\", \"East Germany\", \"Nigeria\", \"Aruba\", \"Nepal\", \"Kyrgyz Republic\", \"Guatemala\", \"Cameroon\", \"Congo\", \"Bahamas\", \"Syrian Arab Republic\", \"Mauritania\", \"Ethiopia\", \"Albania\", \"Czechoslovakia\", \"Ghana\", \"Monaco\", \"Yugoslavia\", \"Rwanda\", \"Jamaica\", \"Bhutan\", \"Chad\", \"Tajikistan\", \"Libyan Arab Jamahiriya\", \"Liberia\", \"North Korea\", \"Botswana\", \"El Salvador\", \"Sri Lanka\", \"Mongolia\", \"Zimbabwe\", \"Nicaragua\", \"Lao People's Democratic Republic\", \"Angola\", \"Paraguay\", \"Serbia and Montenegro\", \"Kenya\", \"Namibia\", \"Trinidad and Tobago\", \"Uganda\", \"Macao\", \"Bangladesh\", \"Papua New Guinea\", \"Tanzania\", \"Saudi Arabia\", \"Azerbaijan\", \"Mali\", \"Cote D'Ivoire\", \"Barbados\", \"Moldova\", \"Madagascar\", \"Samoa\", \"Kuwait\", \"Gibraltar\", \"Cayman Islands\", \"Antarctica\", \"Brunei Darussalam\", \"United States Minor Outlying Islands\", \"French Southern Territories\", \"Netherlands Antilles\", \"Guinea\", \"French Polynesia\", \"Somalia\", \"Myanmar\", \"Bermuda\", \"Honduras\", \"Martinique\"], \"locationmode\": \"country names\", \"z\": [4094, 3940, 2254, 2169, 1765, 1648, 964, 912, 828, 596, 588, 570, 495, 447, 386, 383, 375, 372, 329, 319, 291, 254, 254, 225, 209, 209, 203, 175, 169, 165, 147, 142, 129, 128, 125, 123, 116, 106, 106, 90, 83, 78, 68, 68, 59, 56, 55, 41, 36, 35, 34, 33, 33, 32, 30, 30, 30, 29, 27, 25, 25, 23, 20, 19, 18, 18, 18, 15, 15, 14, 14, 13, 13, 13, 11, 10, 10, 10, 10, 9, 9, 9, 9, 8, 8, 8, 8, 8, 7, 7, 7, 6, 6, 6, 6, 6, 6, 6, 6, 5, 5, 5, 5, 5, 5, 5, 4, 4, 4, 4, 4, 4, 4, 4, 3, 3, 3, 3, 3, 3, 3, 3, 3, 3, 3, 3, 3, 3, 3, 3, 2, 2, 2, 2, 2, 2, 2, 2, 2, 2, 1, 1, 1, 1, 1, 1, 1, 1, 1, 1, 1, 1, 1, 1, 1, 1, 1, 1, 1], \"text\": [\"United Kingdom\", \"France\", \"Germany\", \"Italy\", \"Canada\", \"Japan\", \"Spain\", \"Russia\", \"India\", \"Hong Kong\", \"Sweden\", \"Australia\", \"South Korea\", \"Belgium\", \"Denmark\", \"Finland\", \"Netherlands\", \"China\", \"Mexico\", \"Poland\", \"Brazil\", \"Switzerland\", \"Argentina\", \"Ireland\", \"Czech Republic\", \"Austria\", \"Norway\", \"Hungary\", \"Greece\", \"Turkey\", \"Israel\", \"Romania\", \"Taiwan\", \"Portugal\", \"South Africa\", \"New Zealand\", \"Thailand\", \"Iran\", \"Serbia\", \"Luxembourg\", \"Philippines\", \"Croatia\", \"Chile\", \"Iceland\", \"Estonia\", \"Bulgaria\", \"Ukraine\", \"Singapore\", \"Lithuania\", \"Bosnia and Herzegovina\", \"Colombia\", \"Indonesia\", \"Morocco\", \"Slovenia\", \"Georgia\", \"Slovakia\", \"Peru\", \"Latvia\", \"United Arab Emirates\", \"Cuba\", \"Egypt\", \"Kazakhstan\", \"Soviet Union\", \"Venezuela\", \"Tunisia\", \"Uruguay\", \"Pakistan\", \"Lebanon\", \"Macedonia\", \"Senegal\", \"Qatar\", \"Malaysia\", \"Algeria\", \"Puerto Rico\", \"Palestinian Territory\", \"Vietnam\", \"Ecuador\", \"Bolivia\", \"Burkina Faso\", \"Belarus\", \"Malta\", \"Jordan\", \"Cambodia\", \"Iraq\", \"Afghanistan\", \"Liechtenstein\", \"Armenia\", \"Dominican Republic\", \"Cyprus\", \"Panama\", \"Montenegro\", \"Costa Rica\", \"Uzbekistan\", \"East Germany\", \"Nigeria\", \"Aruba\", \"Nepal\", \"Kyrgyz Republic\", \"Guatemala\", \"Cameroon\", \"Congo\", \"Bahamas\", \"Syrian Arab Republic\", \"Mauritania\", \"Ethiopia\", \"Albania\", \"Czechoslovakia\", \"Ghana\", \"Monaco\", \"Yugoslavia\", \"Rwanda\", \"Jamaica\", \"Bhutan\", \"Chad\", \"Tajikistan\", \"Libyan Arab Jamahiriya\", \"Liberia\", \"North Korea\", \"Botswana\", \"El Salvador\", \"Sri Lanka\", \"Mongolia\", \"Zimbabwe\", \"Nicaragua\", \"Lao People's Democratic Republic\", \"Angola\", \"Paraguay\", \"Serbia and Montenegro\", \"Kenya\", \"Namibia\", \"Trinidad and Tobago\", \"Uganda\", \"Macao\", \"Bangladesh\", \"Papua New Guinea\", \"Tanzania\", \"Saudi Arabia\", \"Azerbaijan\", \"Mali\", \"Cote D'Ivoire\", \"Barbados\", \"Moldova\", \"Madagascar\", \"Samoa\", \"Kuwait\", \"Gibraltar\", \"Cayman Islands\", \"Antarctica\", \"Brunei Darussalam\", \"United States Minor Outlying Islands\", \"French Southern Territories\", \"Netherlands Antilles\", \"Guinea\", \"French Polynesia\", \"Somalia\", \"Myanmar\", \"Bermuda\", \"Honduras\", \"Martinique\"], \"colorscale\": [[0, \"rgb(0, 255, 255)\"], [1, \"rgb(0, 0, 255)\"]], \"autocolorscale\": false, \"reversescale\": false, \"marker\": {\"line\": {\"color\": \"rgb(180,180,180)\", \"width\": 0.5}}, \"colorbar\": {\"autotick\": false, \"tickprefix\": \"\", \"title\": \"Production Countries\"}}], {\"title\": \"Production Countries for the MovieLens Movies (Apart from US)\", \"geo\": {\"showframe\": false, \"showcoastlines\": false, \"projection\": {\"type\": \"Mercator\"}}}, {\"showLink\": true, \"linkText\": \"Export to plot.ly\"})});</script>"
      ],
      "text/vnd.plotly.v1+html": [
       "<div id=\"e609ae54-b7a8-4016-a34f-7f1765ae7f4b\" style=\"height: 525px; width: 100%;\" class=\"plotly-graph-div\"></div><script type=\"text/javascript\">require([\"plotly\"], function(Plotly) { window.PLOTLYENV=window.PLOTLYENV || {};window.PLOTLYENV.BASE_URL=\"https://plot.ly\";Plotly.newPlot(\"e609ae54-b7a8-4016-a34f-7f1765ae7f4b\", [{\"type\": \"choropleth\", \"locations\": [\"United Kingdom\", \"France\", \"Germany\", \"Italy\", \"Canada\", \"Japan\", \"Spain\", \"Russia\", \"India\", \"Hong Kong\", \"Sweden\", \"Australia\", \"South Korea\", \"Belgium\", \"Denmark\", \"Finland\", \"Netherlands\", \"China\", \"Mexico\", \"Poland\", \"Brazil\", \"Switzerland\", \"Argentina\", \"Ireland\", \"Czech Republic\", \"Austria\", \"Norway\", \"Hungary\", \"Greece\", \"Turkey\", \"Israel\", \"Romania\", \"Taiwan\", \"Portugal\", \"South Africa\", \"New Zealand\", \"Thailand\", \"Iran\", \"Serbia\", \"Luxembourg\", \"Philippines\", \"Croatia\", \"Chile\", \"Iceland\", \"Estonia\", \"Bulgaria\", \"Ukraine\", \"Singapore\", \"Lithuania\", \"Bosnia and Herzegovina\", \"Colombia\", \"Indonesia\", \"Morocco\", \"Slovenia\", \"Georgia\", \"Slovakia\", \"Peru\", \"Latvia\", \"United Arab Emirates\", \"Cuba\", \"Egypt\", \"Kazakhstan\", \"Soviet Union\", \"Venezuela\", \"Tunisia\", \"Uruguay\", \"Pakistan\", \"Lebanon\", \"Macedonia\", \"Senegal\", \"Qatar\", \"Malaysia\", \"Algeria\", \"Puerto Rico\", \"Palestinian Territory\", \"Vietnam\", \"Ecuador\", \"Bolivia\", \"Burkina Faso\", \"Belarus\", \"Malta\", \"Jordan\", \"Cambodia\", \"Iraq\", \"Afghanistan\", \"Liechtenstein\", \"Armenia\", \"Dominican Republic\", \"Cyprus\", \"Panama\", \"Montenegro\", \"Costa Rica\", \"Uzbekistan\", \"East Germany\", \"Nigeria\", \"Aruba\", \"Nepal\", \"Kyrgyz Republic\", \"Guatemala\", \"Cameroon\", \"Congo\", \"Bahamas\", \"Syrian Arab Republic\", \"Mauritania\", \"Ethiopia\", \"Albania\", \"Czechoslovakia\", \"Ghana\", \"Monaco\", \"Yugoslavia\", \"Rwanda\", \"Jamaica\", \"Bhutan\", \"Chad\", \"Tajikistan\", \"Libyan Arab Jamahiriya\", \"Liberia\", \"North Korea\", \"Botswana\", \"El Salvador\", \"Sri Lanka\", \"Mongolia\", \"Zimbabwe\", \"Nicaragua\", \"Lao People's Democratic Republic\", \"Angola\", \"Paraguay\", \"Serbia and Montenegro\", \"Kenya\", \"Namibia\", \"Trinidad and Tobago\", \"Uganda\", \"Macao\", \"Bangladesh\", \"Papua New Guinea\", \"Tanzania\", \"Saudi Arabia\", \"Azerbaijan\", \"Mali\", \"Cote D'Ivoire\", \"Barbados\", \"Moldova\", \"Madagascar\", \"Samoa\", \"Kuwait\", \"Gibraltar\", \"Cayman Islands\", \"Antarctica\", \"Brunei Darussalam\", \"United States Minor Outlying Islands\", \"French Southern Territories\", \"Netherlands Antilles\", \"Guinea\", \"French Polynesia\", \"Somalia\", \"Myanmar\", \"Bermuda\", \"Honduras\", \"Martinique\"], \"locationmode\": \"country names\", \"z\": [4094, 3940, 2254, 2169, 1765, 1648, 964, 912, 828, 596, 588, 570, 495, 447, 386, 383, 375, 372, 329, 319, 291, 254, 254, 225, 209, 209, 203, 175, 169, 165, 147, 142, 129, 128, 125, 123, 116, 106, 106, 90, 83, 78, 68, 68, 59, 56, 55, 41, 36, 35, 34, 33, 33, 32, 30, 30, 30, 29, 27, 25, 25, 23, 20, 19, 18, 18, 18, 15, 15, 14, 14, 13, 13, 13, 11, 10, 10, 10, 10, 9, 9, 9, 9, 8, 8, 8, 8, 8, 7, 7, 7, 6, 6, 6, 6, 6, 6, 6, 6, 5, 5, 5, 5, 5, 5, 5, 4, 4, 4, 4, 4, 4, 4, 4, 3, 3, 3, 3, 3, 3, 3, 3, 3, 3, 3, 3, 3, 3, 3, 3, 2, 2, 2, 2, 2, 2, 2, 2, 2, 2, 1, 1, 1, 1, 1, 1, 1, 1, 1, 1, 1, 1, 1, 1, 1, 1, 1, 1, 1], \"text\": [\"United Kingdom\", \"France\", \"Germany\", \"Italy\", \"Canada\", \"Japan\", \"Spain\", \"Russia\", \"India\", \"Hong Kong\", \"Sweden\", \"Australia\", \"South Korea\", \"Belgium\", \"Denmark\", \"Finland\", \"Netherlands\", \"China\", \"Mexico\", \"Poland\", \"Brazil\", \"Switzerland\", \"Argentina\", \"Ireland\", \"Czech Republic\", \"Austria\", \"Norway\", \"Hungary\", \"Greece\", \"Turkey\", \"Israel\", \"Romania\", \"Taiwan\", \"Portugal\", \"South Africa\", \"New Zealand\", \"Thailand\", \"Iran\", \"Serbia\", \"Luxembourg\", \"Philippines\", \"Croatia\", \"Chile\", \"Iceland\", \"Estonia\", \"Bulgaria\", \"Ukraine\", \"Singapore\", \"Lithuania\", \"Bosnia and Herzegovina\", \"Colombia\", \"Indonesia\", \"Morocco\", \"Slovenia\", \"Georgia\", \"Slovakia\", \"Peru\", \"Latvia\", \"United Arab Emirates\", \"Cuba\", \"Egypt\", \"Kazakhstan\", \"Soviet Union\", \"Venezuela\", \"Tunisia\", \"Uruguay\", \"Pakistan\", \"Lebanon\", \"Macedonia\", \"Senegal\", \"Qatar\", \"Malaysia\", \"Algeria\", \"Puerto Rico\", \"Palestinian Territory\", \"Vietnam\", \"Ecuador\", \"Bolivia\", \"Burkina Faso\", \"Belarus\", \"Malta\", \"Jordan\", \"Cambodia\", \"Iraq\", \"Afghanistan\", \"Liechtenstein\", \"Armenia\", \"Dominican Republic\", \"Cyprus\", \"Panama\", \"Montenegro\", \"Costa Rica\", \"Uzbekistan\", \"East Germany\", \"Nigeria\", \"Aruba\", \"Nepal\", \"Kyrgyz Republic\", \"Guatemala\", \"Cameroon\", \"Congo\", \"Bahamas\", \"Syrian Arab Republic\", \"Mauritania\", \"Ethiopia\", \"Albania\", \"Czechoslovakia\", \"Ghana\", \"Monaco\", \"Yugoslavia\", \"Rwanda\", \"Jamaica\", \"Bhutan\", \"Chad\", \"Tajikistan\", \"Libyan Arab Jamahiriya\", \"Liberia\", \"North Korea\", \"Botswana\", \"El Salvador\", \"Sri Lanka\", \"Mongolia\", \"Zimbabwe\", \"Nicaragua\", \"Lao People's Democratic Republic\", \"Angola\", \"Paraguay\", \"Serbia and Montenegro\", \"Kenya\", \"Namibia\", \"Trinidad and Tobago\", \"Uganda\", \"Macao\", \"Bangladesh\", \"Papua New Guinea\", \"Tanzania\", \"Saudi Arabia\", \"Azerbaijan\", \"Mali\", \"Cote D'Ivoire\", \"Barbados\", \"Moldova\", \"Madagascar\", \"Samoa\", \"Kuwait\", \"Gibraltar\", \"Cayman Islands\", \"Antarctica\", \"Brunei Darussalam\", \"United States Minor Outlying Islands\", \"French Southern Territories\", \"Netherlands Antilles\", \"Guinea\", \"French Polynesia\", \"Somalia\", \"Myanmar\", \"Bermuda\", \"Honduras\", \"Martinique\"], \"colorscale\": [[0, \"rgb(0, 255, 255)\"], [1, \"rgb(0, 0, 255)\"]], \"autocolorscale\": false, \"reversescale\": false, \"marker\": {\"line\": {\"color\": \"rgb(180,180,180)\", \"width\": 0.5}}, \"colorbar\": {\"autotick\": false, \"tickprefix\": \"\", \"title\": \"Production Countries\"}}], {\"title\": \"Production Countries for the MovieLens Movies (Apart from US)\", \"geo\": {\"showframe\": false, \"showcoastlines\": false, \"projection\": {\"type\": \"Mercator\"}}}, {\"showLink\": true, \"linkText\": \"Export to plot.ly\"})});</script>"
      ]
     },
     "metadata": {},
     "output_type": "display_data"
    }
   ],
   "source": [
    "data = [ dict(\n",
    "        type = 'choropleth',\n",
    "        locations = con_df['country'],\n",
    "        locationmode = 'country names',\n",
    "        z = con_df['num_movies'],\n",
    "        text = con_df['country'],\n",
    "        colorscale = [[0,'rgb(0, 255, 255)'],[1,'rgb(0, 0, 255)']],\n",
    "        autocolorscale = False,\n",
    "        reversescale = False,\n",
    "        marker = dict(\n",
    "            line = dict (\n",
    "                color = 'rgb(180,180,180)',\n",
    "                width = 0.5\n",
    "            ) ),\n",
    "        colorbar = dict(\n",
    "            autotick = False,\n",
    "            tickprefix = '',\n",
    "            title = 'Production Countries'),\n",
    "      ) ]\n",
    "\n",
    "layout = dict(\n",
    "    title = 'Production Countries for the MovieLens Movies (Apart from US)',\n",
    "    geo = dict(\n",
    "        showframe = False,\n",
    "        showcoastlines = False,\n",
    "        projection = dict(\n",
    "            type = 'Mercator'\n",
    "        )\n",
    "    )\n",
    ")\n",
    "\n",
    "fig = dict( data=data, layout=layout )\n",
    "py.iplot( fig, validate=False, filename='d3-world-map' )"
   ]
  },
  {
   "cell_type": "markdown",
   "metadata": {
    "_cell_guid": "09310d3a-194e-4191-9098-1af47d1e6034",
    "_uuid": "658d3915edb8292d41df69c03220fe527c838d3c"
   },
   "source": [
    "### Franchise Movies"
   ]
  },
  {
   "cell_type": "code",
   "execution_count": 24,
   "metadata": {
    "_cell_guid": "529e50b7-f811-4d00-9184-b44d184b824c",
    "_uuid": "4b6279f52fa0da506d4fb4e877c538d44433099a"
   },
   "outputs": [],
   "source": [
    "df_fran = df[df['belongs_to_collection'].notnull()]\n",
    "df_fran['belongs_to_collection'] = df_fran['belongs_to_collection'].apply(ast.literal_eval).apply(lambda x: x['name'] if isinstance(x, dict) else np.nan)\n",
    "df_fran = df_fran[df_fran['belongs_to_collection'].notnull()]"
   ]
  },
  {
   "cell_type": "code",
   "execution_count": 25,
   "metadata": {
    "_cell_guid": "660fc21b-7100-4689-a179-0f0d184a5252",
    "_uuid": "2be5874cd42a8730b9a2e8f0ecb4f7fedffe4c2f"
   },
   "outputs": [],
   "source": [
    "fran_pivot = df_fran.pivot_table(index='belongs_to_collection', values='revenue', aggfunc={'revenue': ['mean', 'sum', 'count']}).reset_index()"
   ]
  },
  {
   "cell_type": "markdown",
   "metadata": {
    "_cell_guid": "27086712-c762-411f-ae6d-cadf518ed861",
    "_uuid": "da2b40e0168f39177178327d934b5ee0a116aaa5"
   },
   "source": [
    "#### Highest Grossing Movie Franchises "
   ]
  },
  {
   "cell_type": "code",
   "execution_count": 26,
   "metadata": {
    "_cell_guid": "118a22cf-bfc5-4aeb-aeca-9a94e1717ddb",
    "_uuid": "3e29009096eda90a10d02cd3a18dc7afcc88fbff"
   },
   "outputs": [
    {
     "data": {
      "text/html": [
       "<div>\n",
       "<style scoped>\n",
       "    .dataframe tbody tr th:only-of-type {\n",
       "        vertical-align: middle;\n",
       "    }\n",
       "\n",
       "    .dataframe tbody tr th {\n",
       "        vertical-align: top;\n",
       "    }\n",
       "\n",
       "    .dataframe thead th {\n",
       "        text-align: right;\n",
       "    }\n",
       "</style>\n",
       "<table border=\"1\" class=\"dataframe\">\n",
       "  <thead>\n",
       "    <tr style=\"text-align: right;\">\n",
       "      <th></th>\n",
       "      <th>belongs_to_collection</th>\n",
       "      <th>count</th>\n",
       "      <th>mean</th>\n",
       "      <th>sum</th>\n",
       "    </tr>\n",
       "  </thead>\n",
       "  <tbody>\n",
       "    <tr>\n",
       "      <th>552</th>\n",
       "      <td>Harry Potter Collection</td>\n",
       "      <td>8</td>\n",
       "      <td>9.634209e+08</td>\n",
       "      <td>7.707367e+09</td>\n",
       "    </tr>\n",
       "    <tr>\n",
       "      <th>1160</th>\n",
       "      <td>Star Wars Collection</td>\n",
       "      <td>8</td>\n",
       "      <td>9.293118e+08</td>\n",
       "      <td>7.434495e+09</td>\n",
       "    </tr>\n",
       "    <tr>\n",
       "      <th>646</th>\n",
       "      <td>James Bond Collection</td>\n",
       "      <td>26</td>\n",
       "      <td>2.733450e+08</td>\n",
       "      <td>7.106970e+09</td>\n",
       "    </tr>\n",
       "    <tr>\n",
       "      <th>1317</th>\n",
       "      <td>The Fast and the Furious Collection</td>\n",
       "      <td>8</td>\n",
       "      <td>6.406373e+08</td>\n",
       "      <td>5.125099e+09</td>\n",
       "    </tr>\n",
       "    <tr>\n",
       "      <th>968</th>\n",
       "      <td>Pirates of the Caribbean Collection</td>\n",
       "      <td>5</td>\n",
       "      <td>9.043154e+08</td>\n",
       "      <td>4.521577e+09</td>\n",
       "    </tr>\n",
       "  </tbody>\n",
       "</table>\n",
       "</div>"
      ],
      "text/plain": [
       "                    belongs_to_collection  count          mean           sum\n",
       "552               Harry Potter Collection      8  9.634209e+08  7.707367e+09\n",
       "1160                 Star Wars Collection      8  9.293118e+08  7.434495e+09\n",
       "646                 James Bond Collection     26  2.733450e+08  7.106970e+09\n",
       "1317  The Fast and the Furious Collection      8  6.406373e+08  5.125099e+09\n",
       "968   Pirates of the Caribbean Collection      5  9.043154e+08  4.521577e+09"
      ]
     },
     "execution_count": 26,
     "metadata": {},
     "output_type": "execute_result"
    }
   ],
   "source": [
    "fran_pivot.sort_values('sum', ascending=False).head()"
   ]
  },
  {
   "cell_type": "markdown",
   "metadata": {
    "_cell_guid": "217c9fef-0d4a-4006-8122-520898660ff3",
    "_uuid": "a568b16335a63c7fa7094764df325635dd29240d"
   },
   "source": [
    "#### Most Successful Movie Franchises (by Average Gross)"
   ]
  },
  {
   "cell_type": "code",
   "execution_count": 27,
   "metadata": {
    "_cell_guid": "95317ed4-9f69-4221-8729-2b20d6a4378d",
    "_uuid": "07474f86476e890405fac3b0a07d291c24237bc2"
   },
   "outputs": [
    {
     "data": {
      "text/html": [
       "<div>\n",
       "<style scoped>\n",
       "    .dataframe tbody tr th:only-of-type {\n",
       "        vertical-align: middle;\n",
       "    }\n",
       "\n",
       "    .dataframe tbody tr th {\n",
       "        vertical-align: top;\n",
       "    }\n",
       "\n",
       "    .dataframe thead th {\n",
       "        text-align: right;\n",
       "    }\n",
       "</style>\n",
       "<table border=\"1\" class=\"dataframe\">\n",
       "  <thead>\n",
       "    <tr style=\"text-align: right;\">\n",
       "      <th></th>\n",
       "      <th>belongs_to_collection</th>\n",
       "      <th>count</th>\n",
       "      <th>mean</th>\n",
       "      <th>sum</th>\n",
       "    </tr>\n",
       "  </thead>\n",
       "  <tbody>\n",
       "    <tr>\n",
       "      <th>112</th>\n",
       "      <td>Avatar Collection</td>\n",
       "      <td>1</td>\n",
       "      <td>2.787965e+09</td>\n",
       "      <td>2.787965e+09</td>\n",
       "    </tr>\n",
       "    <tr>\n",
       "      <th>1245</th>\n",
       "      <td>The Avengers Collection</td>\n",
       "      <td>2</td>\n",
       "      <td>1.462481e+09</td>\n",
       "      <td>2.924962e+09</td>\n",
       "    </tr>\n",
       "    <tr>\n",
       "      <th>479</th>\n",
       "      <td>Frozen Collection</td>\n",
       "      <td>1</td>\n",
       "      <td>1.274219e+09</td>\n",
       "      <td>1.274219e+09</td>\n",
       "    </tr>\n",
       "    <tr>\n",
       "      <th>446</th>\n",
       "      <td>Finding Nemo Collection</td>\n",
       "      <td>2</td>\n",
       "      <td>9.844532e+08</td>\n",
       "      <td>1.968906e+09</td>\n",
       "    </tr>\n",
       "    <tr>\n",
       "      <th>1352</th>\n",
       "      <td>The Hobbit Collection</td>\n",
       "      <td>3</td>\n",
       "      <td>9.785078e+08</td>\n",
       "      <td>2.935523e+09</td>\n",
       "    </tr>\n",
       "  </tbody>\n",
       "</table>\n",
       "</div>"
      ],
      "text/plain": [
       "        belongs_to_collection  count          mean           sum\n",
       "112         Avatar Collection      1  2.787965e+09  2.787965e+09\n",
       "1245  The Avengers Collection      2  1.462481e+09  2.924962e+09\n",
       "479         Frozen Collection      1  1.274219e+09  1.274219e+09\n",
       "446   Finding Nemo Collection      2  9.844532e+08  1.968906e+09\n",
       "1352    The Hobbit Collection      3  9.785078e+08  2.935523e+09"
      ]
     },
     "execution_count": 27,
     "metadata": {},
     "output_type": "execute_result"
    }
   ],
   "source": [
    "fran_pivot.sort_values('mean', ascending=False).head()"
   ]
  },
  {
   "cell_type": "markdown",
   "metadata": {
    "_cell_guid": "4a529e0e-2a3b-4eba-b879-269494c69fdf",
    "_uuid": "75c1d772969de6df4e7e5cbc7b51da6ab9598e36"
   },
   "source": [
    "#### Longest Running Franchises"
   ]
  },
  {
   "cell_type": "code",
   "execution_count": 28,
   "metadata": {
    "_cell_guid": "16af6cd4-d101-40a6-925b-8d32c3215122",
    "_uuid": "7ac25702aaf4f229684ffbbb31e114c3a8687995"
   },
   "outputs": [
    {
     "data": {
      "text/html": [
       "<div>\n",
       "<style scoped>\n",
       "    .dataframe tbody tr th:only-of-type {\n",
       "        vertical-align: middle;\n",
       "    }\n",
       "\n",
       "    .dataframe tbody tr th {\n",
       "        vertical-align: top;\n",
       "    }\n",
       "\n",
       "    .dataframe thead th {\n",
       "        text-align: right;\n",
       "    }\n",
       "</style>\n",
       "<table border=\"1\" class=\"dataframe\">\n",
       "  <thead>\n",
       "    <tr style=\"text-align: right;\">\n",
       "      <th></th>\n",
       "      <th>belongs_to_collection</th>\n",
       "      <th>count</th>\n",
       "      <th>mean</th>\n",
       "      <th>sum</th>\n",
       "    </tr>\n",
       "  </thead>\n",
       "  <tbody>\n",
       "    <tr>\n",
       "      <th>646</th>\n",
       "      <td>James Bond Collection</td>\n",
       "      <td>26</td>\n",
       "      <td>2.733450e+08</td>\n",
       "      <td>7.106970e+09</td>\n",
       "    </tr>\n",
       "    <tr>\n",
       "      <th>473</th>\n",
       "      <td>Friday the 13th Collection</td>\n",
       "      <td>12</td>\n",
       "      <td>3.874155e+07</td>\n",
       "      <td>4.648985e+08</td>\n",
       "    </tr>\n",
       "    <tr>\n",
       "      <th>976</th>\n",
       "      <td>Pokémon Collection</td>\n",
       "      <td>11</td>\n",
       "      <td>6.348189e+07</td>\n",
       "      <td>6.983008e+08</td>\n",
       "    </tr>\n",
       "    <tr>\n",
       "      <th>552</th>\n",
       "      <td>Harry Potter Collection</td>\n",
       "      <td>8</td>\n",
       "      <td>9.634209e+08</td>\n",
       "      <td>7.707367e+09</td>\n",
       "    </tr>\n",
       "    <tr>\n",
       "      <th>540</th>\n",
       "      <td>Halloween Collection</td>\n",
       "      <td>8</td>\n",
       "      <td>3.089601e+07</td>\n",
       "      <td>2.471681e+08</td>\n",
       "    </tr>\n",
       "  </tbody>\n",
       "</table>\n",
       "</div>"
      ],
      "text/plain": [
       "          belongs_to_collection  count          mean           sum\n",
       "646       James Bond Collection     26  2.733450e+08  7.106970e+09\n",
       "473  Friday the 13th Collection     12  3.874155e+07  4.648985e+08\n",
       "976          Pokémon Collection     11  6.348189e+07  6.983008e+08\n",
       "552     Harry Potter Collection      8  9.634209e+08  7.707367e+09\n",
       "540        Halloween Collection      8  3.089601e+07  2.471681e+08"
      ]
     },
     "execution_count": 28,
     "metadata": {},
     "output_type": "execute_result"
    }
   ],
   "source": [
    "fran_pivot.sort_values('count', ascending=False).head()"
   ]
  },
  {
   "cell_type": "markdown",
   "metadata": {
    "_cell_guid": "9188d99d-8ee3-40b3-b99a-a108a1106d5c",
    "_uuid": "9950699f252196c79168d90e4d758d4f512895be"
   },
   "source": [
    "### Production Companies"
   ]
  },
  {
   "cell_type": "code",
   "execution_count": 29,
   "metadata": {
    "_cell_guid": "64da44ec-9210-4796-910c-4494d59d53b7",
    "_uuid": "0377fb5ae7de4c7a11f13c0c7c7df3ced781d2e3"
   },
   "outputs": [],
   "source": [
    "df['production_companies'] = df['production_companies'].fillna('[]').apply(ast.literal_eval)\n",
    "df['production_companies'] = df['production_companies'].apply(lambda x: [i['name'] for i in x] if isinstance(x, list) else [])"
   ]
  },
  {
   "cell_type": "code",
   "execution_count": 30,
   "metadata": {
    "_cell_guid": "695ed3c8-398e-447b-9cdf-3a2eafc91658",
    "_uuid": "df144753af752859adf9ca6f18c7a7fa19dcc989"
   },
   "outputs": [],
   "source": [
    "s = df.apply(lambda x: pd.Series(x['production_companies']),axis=1).stack().reset_index(level=1, drop=True)\n",
    "s.name = 'companies'"
   ]
  },
  {
   "cell_type": "code",
   "execution_count": 31,
   "metadata": {
    "_cell_guid": "d5585a3b-e5b6-4acc-a626-c82814c4887c",
    "_uuid": "fbabd3cd73449aa83f53a78c71397f664acddfdd"
   },
   "outputs": [],
   "source": [
    "com_df = df.drop('production_companies', axis=1).join(s)"
   ]
  },
  {
   "cell_type": "code",
   "execution_count": 32,
   "metadata": {
    "_cell_guid": "2946eb43-36a6-4077-a7fc-dd598c91763f",
    "_uuid": "ffe57b3750d1378e23844aeb1196d5283f7cd399"
   },
   "outputs": [],
   "source": [
    "com_sum = pd.DataFrame(com_df.groupby('companies')['revenue'].sum().sort_values(ascending=False))\n",
    "com_sum.columns = ['Total']\n",
    "com_mean = pd.DataFrame(com_df.groupby('companies')['revenue'].mean().sort_values(ascending=False))\n",
    "com_mean.columns = ['Average']\n",
    "com_count = pd.DataFrame(com_df.groupby('companies')['revenue'].count().sort_values(ascending=False))\n",
    "com_count.columns = ['Number']\n",
    "\n",
    "com_pivot = pd.concat((com_sum, com_mean, com_count), axis=1)"
   ]
  },
  {
   "cell_type": "markdown",
   "metadata": {
    "_cell_guid": "f15c27ab-f92f-4562-8d7e-aca26e86765f",
    "_uuid": "18dc742a3ba8d21ad40f9ee7adf2a525833fc239"
   },
   "source": [
    "#### Highest Earning Production Companies"
   ]
  },
  {
   "cell_type": "code",
   "execution_count": 33,
   "metadata": {
    "_cell_guid": "24d51435-19f1-43a8-9c07-ab8418825b70",
    "_uuid": "17d6a602e5feddde6e01efd033d7f465c4690b6c"
   },
   "outputs": [
    {
     "data": {
      "text/html": [
       "<div>\n",
       "<style scoped>\n",
       "    .dataframe tbody tr th:only-of-type {\n",
       "        vertical-align: middle;\n",
       "    }\n",
       "\n",
       "    .dataframe tbody tr th {\n",
       "        vertical-align: top;\n",
       "    }\n",
       "\n",
       "    .dataframe thead th {\n",
       "        text-align: right;\n",
       "    }\n",
       "</style>\n",
       "<table border=\"1\" class=\"dataframe\">\n",
       "  <thead>\n",
       "    <tr style=\"text-align: right;\">\n",
       "      <th></th>\n",
       "      <th>Total</th>\n",
       "      <th>Average</th>\n",
       "      <th>Number</th>\n",
       "    </tr>\n",
       "  </thead>\n",
       "  <tbody>\n",
       "    <tr>\n",
       "      <th>Warner Bros.</th>\n",
       "      <td>6.352519e+10</td>\n",
       "      <td>1.293792e+08</td>\n",
       "      <td>491</td>\n",
       "    </tr>\n",
       "    <tr>\n",
       "      <th>Universal Pictures</th>\n",
       "      <td>5.525919e+10</td>\n",
       "      <td>1.193503e+08</td>\n",
       "      <td>463</td>\n",
       "    </tr>\n",
       "    <tr>\n",
       "      <th>Paramount Pictures</th>\n",
       "      <td>4.880819e+10</td>\n",
       "      <td>1.235650e+08</td>\n",
       "      <td>395</td>\n",
       "    </tr>\n",
       "    <tr>\n",
       "      <th>Twentieth Century Fox Film Corporation</th>\n",
       "      <td>4.768775e+10</td>\n",
       "      <td>1.398468e+08</td>\n",
       "      <td>341</td>\n",
       "    </tr>\n",
       "    <tr>\n",
       "      <th>Walt Disney Pictures</th>\n",
       "      <td>4.083727e+10</td>\n",
       "      <td>2.778046e+08</td>\n",
       "      <td>147</td>\n",
       "    </tr>\n",
       "  </tbody>\n",
       "</table>\n",
       "</div>"
      ],
      "text/plain": [
       "                                               Total       Average  Number\n",
       "Warner Bros.                            6.352519e+10  1.293792e+08     491\n",
       "Universal Pictures                      5.525919e+10  1.193503e+08     463\n",
       "Paramount Pictures                      4.880819e+10  1.235650e+08     395\n",
       "Twentieth Century Fox Film Corporation  4.768775e+10  1.398468e+08     341\n",
       "Walt Disney Pictures                    4.083727e+10  2.778046e+08     147"
      ]
     },
     "execution_count": 33,
     "metadata": {},
     "output_type": "execute_result"
    }
   ],
   "source": [
    "com_pivot.sort_values('Total', ascending=False).head()"
   ]
  },
  {
   "cell_type": "markdown",
   "metadata": {
    "_cell_guid": "8848c20a-8bda-4239-aa9d-6694e052b128",
    "_uuid": "23a2f23bfd659e3f450b0344b997374893f89e2b"
   },
   "source": [
    "#### Most Succesful Production Companies"
   ]
  },
  {
   "cell_type": "code",
   "execution_count": 34,
   "metadata": {
    "_cell_guid": "b28d172e-46e1-43ea-a02e-c5ba20df1066",
    "_uuid": "459bb5d40dbcff8c383e38693e2ce1370a599e40"
   },
   "outputs": [
    {
     "data": {
      "text/html": [
       "<div>\n",
       "<style scoped>\n",
       "    .dataframe tbody tr th:only-of-type {\n",
       "        vertical-align: middle;\n",
       "    }\n",
       "\n",
       "    .dataframe tbody tr th {\n",
       "        vertical-align: top;\n",
       "    }\n",
       "\n",
       "    .dataframe thead th {\n",
       "        text-align: right;\n",
       "    }\n",
       "</style>\n",
       "<table border=\"1\" class=\"dataframe\">\n",
       "  <thead>\n",
       "    <tr style=\"text-align: right;\">\n",
       "      <th></th>\n",
       "      <th>Total</th>\n",
       "      <th>Average</th>\n",
       "      <th>Number</th>\n",
       "    </tr>\n",
       "  </thead>\n",
       "  <tbody>\n",
       "    <tr>\n",
       "      <th>Pixar Animation Studios</th>\n",
       "      <td>1.118853e+10</td>\n",
       "      <td>6.215852e+08</td>\n",
       "      <td>18</td>\n",
       "    </tr>\n",
       "    <tr>\n",
       "      <th>Marvel Studios</th>\n",
       "      <td>1.169964e+10</td>\n",
       "      <td>6.157703e+08</td>\n",
       "      <td>19</td>\n",
       "    </tr>\n",
       "    <tr>\n",
       "      <th>Revolution Sun Studios</th>\n",
       "      <td>8.120339e+09</td>\n",
       "      <td>5.413559e+08</td>\n",
       "      <td>15</td>\n",
       "    </tr>\n",
       "    <tr>\n",
       "      <th>Lucasfilm</th>\n",
       "      <td>9.898421e+09</td>\n",
       "      <td>4.499282e+08</td>\n",
       "      <td>22</td>\n",
       "    </tr>\n",
       "    <tr>\n",
       "      <th>DreamWorks Animation</th>\n",
       "      <td>1.370752e+10</td>\n",
       "      <td>4.031622e+08</td>\n",
       "      <td>34</td>\n",
       "    </tr>\n",
       "  </tbody>\n",
       "</table>\n",
       "</div>"
      ],
      "text/plain": [
       "                                Total       Average  Number\n",
       "Pixar Animation Studios  1.118853e+10  6.215852e+08      18\n",
       "Marvel Studios           1.169964e+10  6.157703e+08      19\n",
       "Revolution Sun Studios   8.120339e+09  5.413559e+08      15\n",
       "Lucasfilm                9.898421e+09  4.499282e+08      22\n",
       "DreamWorks Animation     1.370752e+10  4.031622e+08      34"
      ]
     },
     "execution_count": 34,
     "metadata": {},
     "output_type": "execute_result"
    }
   ],
   "source": [
    "com_pivot[com_pivot['Number'] >= 15].sort_values('Average', ascending=False).head()"
   ]
  },
  {
   "cell_type": "markdown",
   "metadata": {
    "_cell_guid": "dcf3ef5e-91bb-4df0-a490-1d0c0c9ae3ad",
    "_uuid": "e54f8e2e90bc025ef1dd649e537ce0f46af3191a"
   },
   "source": [
    "### Original Language"
   ]
  },
  {
   "cell_type": "code",
   "execution_count": 35,
   "metadata": {
    "_cell_guid": "7add5349-b912-40fd-9e7d-8ee1300e9ae6",
    "_uuid": "1c7d401fa5eec05719f0953cdddd1022e024af2b"
   },
   "outputs": [
    {
     "data": {
      "text/plain": [
       "93"
      ]
     },
     "execution_count": 35,
     "metadata": {},
     "output_type": "execute_result"
    }
   ],
   "source": [
    "df['original_language'].drop_duplicates().shape[0]"
   ]
  },
  {
   "cell_type": "code",
   "execution_count": 36,
   "metadata": {
    "_cell_guid": "e04947fa-b909-4b5e-b7b2-42c87770352a",
    "_uuid": "dfde6e6093ed1a82e30ed39d944abf91b952daa2"
   },
   "outputs": [
    {
     "data": {
      "text/html": [
       "<div>\n",
       "<style scoped>\n",
       "    .dataframe tbody tr th:only-of-type {\n",
       "        vertical-align: middle;\n",
       "    }\n",
       "\n",
       "    .dataframe tbody tr th {\n",
       "        vertical-align: top;\n",
       "    }\n",
       "\n",
       "    .dataframe thead th {\n",
       "        text-align: right;\n",
       "    }\n",
       "</style>\n",
       "<table border=\"1\" class=\"dataframe\">\n",
       "  <thead>\n",
       "    <tr style=\"text-align: right;\">\n",
       "      <th></th>\n",
       "      <th>number</th>\n",
       "      <th>language</th>\n",
       "    </tr>\n",
       "  </thead>\n",
       "  <tbody>\n",
       "    <tr>\n",
       "      <th>en</th>\n",
       "      <td>32269</td>\n",
       "      <td>en</td>\n",
       "    </tr>\n",
       "    <tr>\n",
       "      <th>fr</th>\n",
       "      <td>2438</td>\n",
       "      <td>fr</td>\n",
       "    </tr>\n",
       "    <tr>\n",
       "      <th>it</th>\n",
       "      <td>1529</td>\n",
       "      <td>it</td>\n",
       "    </tr>\n",
       "    <tr>\n",
       "      <th>ja</th>\n",
       "      <td>1350</td>\n",
       "      <td>ja</td>\n",
       "    </tr>\n",
       "    <tr>\n",
       "      <th>de</th>\n",
       "      <td>1080</td>\n",
       "      <td>de</td>\n",
       "    </tr>\n",
       "  </tbody>\n",
       "</table>\n",
       "</div>"
      ],
      "text/plain": [
       "    number language\n",
       "en   32269       en\n",
       "fr    2438       fr\n",
       "it    1529       it\n",
       "ja    1350       ja\n",
       "de    1080       de"
      ]
     },
     "execution_count": 36,
     "metadata": {},
     "output_type": "execute_result"
    }
   ],
   "source": [
    "lang_df = pd.DataFrame(df['original_language'].value_counts())\n",
    "lang_df['language'] = lang_df.index\n",
    "lang_df.columns = ['number', 'language']\n",
    "lang_df.head()"
   ]
  },
  {
   "cell_type": "code",
   "execution_count": 37,
   "metadata": {
    "_cell_guid": "315006c1-1527-41bd-b4c2-e935251f0d4e",
    "_uuid": "032339be3734a6b7445ab2f43688b9fbb9399ce2"
   },
   "outputs": [
    {
     "data": {
      "image/png": "[encoded data removed]",
      "text/plain": [
       "<matplotlib.figure.Figure at 0x298f2f19320>"
      ]
     },
     "metadata": {},
     "output_type": "display_data"
    }
   ],
   "source": [
    "plt.figure(figsize=(12,5))\n",
    "sns.barplot(x='language', y='number', data=lang_df.iloc[1:11])\n",
    "plt.show()"
   ]
  },
  {
   "cell_type": "markdown",
   "metadata": {
    "_cell_guid": "12cfe022-a78b-4931-ac67-bd5581ae764e",
    "_uuid": "aed427fa7e7aaf0b2b185d41aa62a2987237ec6f"
   },
   "source": [
    "### Popularity, Vote Average and Vote Count"
   ]
  },
  {
   "cell_type": "code",
   "execution_count": 38,
   "metadata": {
    "_cell_guid": "1a767be2-8c33-4cf7-ac49-02d6bcb4262e",
    "_uuid": "0d53227cb9abef89fcff97d5e479e5611e80a85b"
   },
   "outputs": [],
   "source": [
    "def clean_numeric(x):\n",
    "    try:\n",
    "        return float(x)\n",
    "    except:\n",
    "        return np.nan"
   ]
  },
  {
   "cell_type": "code",
   "execution_count": 39,
   "metadata": {
    "_cell_guid": "cad7bb51-9418-44b6-9c0e-c26c5268d543",
    "_uuid": "e91abbcb41a8465887d72e8366497f3fa93b37d8"
   },
   "outputs": [],
   "source": [
    "df['popularity'] = df['popularity'].apply(clean_numeric).astype('float')\n",
    "df['vote_count'] = df['vote_count'].apply(clean_numeric).astype('float')\n",
    "df['vote_average'] = df['vote_average'].apply(clean_numeric).astype('float')"
   ]
  },
  {
   "cell_type": "code",
   "execution_count": 40,
   "metadata": {
    "_cell_guid": "60ccf913-8ab4-47b7-8900-fe60e090edae",
    "_uuid": "60acdd311629246104d55efc09fb1ac6c03e3e80",
    "scrolled": true
   },
   "outputs": [
    {
     "data": {
      "image/png": "[encoded data removed]",
      "text/plain": [
       "<matplotlib.figure.Figure at 0x298f2ef8c88>"
      ]
     },
     "metadata": {},
     "output_type": "display_data"
    }
   ],
   "source": [
    "sns.distplot(df['popularity'].fillna(df['popularity'].median()))\n",
    "plt.show()"
   ]
  },
  {
   "cell_type": "code",
   "execution_count": 41,
   "metadata": {
    "_cell_guid": "63edfba6-b629-4c7b-a1d8-7200f6d43a07",
    "_uuid": "e3764c3474dcb3641abfdbde6fad0e32ffe74ff9"
   },
   "outputs": [
    {
     "data": {
      "text/plain": [
       "<matplotlib.axes._subplots.AxesSubplot at 0x298f0b00fd0>"
      ]
     },
     "execution_count": 41,
     "metadata": {},
     "output_type": "execute_result"
    },
    {
     "data": {
      "image/png": "[encoded data removed]",
      "text/plain": [
       "<matplotlib.figure.Figure at 0x298f1c9a9e8>"
      ]
     },
     "metadata": {},
     "output_type": "display_data"
    }
   ],
   "source": [
    "df['popularity'].plot(logy=True, kind='hist')"
   ]
  },
  {
   "cell_type": "markdown",
   "metadata": {
    "_cell_guid": "53352250-97ff-4c0c-b843-4eec80c0f6d1",
    "_uuid": "3ea6e527075e34a03872d8f2158090dfccc4a6a3"
   },
   "source": [
    "#### Most Popular Movies by Popularity Score"
   ]
  },
  {
   "cell_type": "code",
   "execution_count": 42,
   "metadata": {
    "_cell_guid": "c4880f12-85c5-43d8-90b7-5e09173633d4",
    "_uuid": "28befa088b26d324e0de9954c2697af7bca08d90"
   },
   "outputs": [
    {
     "data": {
      "text/html": [
       "<div>\n",
       "<style scoped>\n",
       "    .dataframe tbody tr th:only-of-type {\n",
       "        vertical-align: middle;\n",
       "    }\n",
       "\n",
       "    .dataframe tbody tr th {\n",
       "        vertical-align: top;\n",
       "    }\n",
       "\n",
       "    .dataframe thead th {\n",
       "        text-align: right;\n",
       "    }\n",
       "</style>\n",
       "<table border=\"1\" class=\"dataframe\">\n",
       "  <thead>\n",
       "    <tr style=\"text-align: right;\">\n",
       "      <th></th>\n",
       "      <th>title</th>\n",
       "      <th>popularity</th>\n",
       "      <th>year</th>\n",
       "    </tr>\n",
       "  </thead>\n",
       "  <tbody>\n",
       "    <tr>\n",
       "      <th>30700</th>\n",
       "      <td>Minions</td>\n",
       "      <td>547.488298</td>\n",
       "      <td>2015</td>\n",
       "    </tr>\n",
       "    <tr>\n",
       "      <th>33356</th>\n",
       "      <td>Wonder Woman</td>\n",
       "      <td>294.337037</td>\n",
       "      <td>2017</td>\n",
       "    </tr>\n",
       "    <tr>\n",
       "      <th>42222</th>\n",
       "      <td>Beauty and the Beast</td>\n",
       "      <td>287.253654</td>\n",
       "      <td>2017</td>\n",
       "    </tr>\n",
       "    <tr>\n",
       "      <th>43644</th>\n",
       "      <td>Baby Driver</td>\n",
       "      <td>228.032744</td>\n",
       "      <td>2017</td>\n",
       "    </tr>\n",
       "    <tr>\n",
       "      <th>24455</th>\n",
       "      <td>Big Hero 6</td>\n",
       "      <td>213.849907</td>\n",
       "      <td>2014</td>\n",
       "    </tr>\n",
       "  </tbody>\n",
       "</table>\n",
       "</div>"
      ],
      "text/plain": [
       "                      title  popularity  year\n",
       "30700               Minions  547.488298  2015\n",
       "33356          Wonder Woman  294.337037  2017\n",
       "42222  Beauty and the Beast  287.253654  2017\n",
       "43644           Baby Driver  228.032744  2017\n",
       "24455            Big Hero 6  213.849907  2014"
      ]
     },
     "execution_count": 42,
     "metadata": {},
     "output_type": "execute_result"
    }
   ],
   "source": [
    "df[['title', 'popularity', 'year']].sort_values('popularity', ascending=False).head()"
   ]
  },
  {
   "cell_type": "markdown",
   "metadata": {
    "_cell_guid": "b96d55e2-dbbd-4975-8ff7-7509b7d65aa0",
    "_uuid": "090119ce528e21d87499640bb9dd1ff826ecc021"
   },
   "source": [
    "#### Most Voted on Movies"
   ]
  },
  {
   "cell_type": "code",
   "execution_count": 43,
   "metadata": {
    "_cell_guid": "32ce145d-289f-4ba7-ba20-f6929435a519",
    "_uuid": "7668cc39bb8545a47b81a244c45a44eef5ba9ecb"
   },
   "outputs": [
    {
     "data": {
      "text/html": [
       "<div>\n",
       "<style scoped>\n",
       "    .dataframe tbody tr th:only-of-type {\n",
       "        vertical-align: middle;\n",
       "    }\n",
       "\n",
       "    .dataframe tbody tr th {\n",
       "        vertical-align: top;\n",
       "    }\n",
       "\n",
       "    .dataframe thead th {\n",
       "        text-align: right;\n",
       "    }\n",
       "</style>\n",
       "<table border=\"1\" class=\"dataframe\">\n",
       "  <thead>\n",
       "    <tr style=\"text-align: right;\">\n",
       "      <th></th>\n",
       "      <th>title</th>\n",
       "      <th>vote_count</th>\n",
       "      <th>year</th>\n",
       "    </tr>\n",
       "  </thead>\n",
       "  <tbody>\n",
       "    <tr>\n",
       "      <th>15480</th>\n",
       "      <td>Inception</td>\n",
       "      <td>14075.0</td>\n",
       "      <td>2010</td>\n",
       "    </tr>\n",
       "    <tr>\n",
       "      <th>12481</th>\n",
       "      <td>The Dark Knight</td>\n",
       "      <td>12269.0</td>\n",
       "      <td>2008</td>\n",
       "    </tr>\n",
       "    <tr>\n",
       "      <th>14551</th>\n",
       "      <td>Avatar</td>\n",
       "      <td>12114.0</td>\n",
       "      <td>2009</td>\n",
       "    </tr>\n",
       "    <tr>\n",
       "      <th>17818</th>\n",
       "      <td>The Avengers</td>\n",
       "      <td>12000.0</td>\n",
       "      <td>2012</td>\n",
       "    </tr>\n",
       "    <tr>\n",
       "      <th>26564</th>\n",
       "      <td>Deadpool</td>\n",
       "      <td>11444.0</td>\n",
       "      <td>2016</td>\n",
       "    </tr>\n",
       "  </tbody>\n",
       "</table>\n",
       "</div>"
      ],
      "text/plain": [
       "                 title  vote_count  year\n",
       "15480        Inception     14075.0  2010\n",
       "12481  The Dark Knight     12269.0  2008\n",
       "14551           Avatar     12114.0  2009\n",
       "17818     The Avengers     12000.0  2012\n",
       "26564         Deadpool     11444.0  2016"
      ]
     },
     "execution_count": 43,
     "metadata": {},
     "output_type": "execute_result"
    }
   ],
   "source": [
    "df[['title', 'vote_count', 'year']].sort_values('vote_count', ascending=False).head()"
   ]
  },
  {
   "cell_type": "code",
   "execution_count": 44,
   "metadata": {
    "_cell_guid": "2ab0efc2-8298-4399-93fb-3965a923e70b",
    "_uuid": "1e8a8ed70897def6bb256b00a28f32ecd49212e0"
   },
   "outputs": [],
   "source": [
    "df['vote_average'] = df['vote_average'].replace(0, np.nan)"
   ]
  },
  {
   "cell_type": "code",
   "execution_count": 45,
   "metadata": {
    "_cell_guid": "ce5539ee-4014-456d-b982-933fe5540046",
    "_uuid": "6dd3895a7d7bad6c2236b73c285c79922821e609"
   },
   "outputs": [
    {
     "data": {
      "text/plain": [
       "<matplotlib.axes._subplots.AxesSubplot at 0x298800ce748>"
      ]
     },
     "execution_count": 45,
     "metadata": {},
     "output_type": "execute_result"
    },
    {
     "data": {
      "image/png": "[encoded data removed]",
      "text/plain": [
       "<matplotlib.figure.Figure at 0x298800f2d30>"
      ]
     },
     "metadata": {},
     "output_type": "display_data"
    }
   ],
   "source": [
    "sns.distplot(df['vote_average'].fillna(df['vote_average'].median()))"
   ]
  },
  {
   "cell_type": "markdown",
   "metadata": {
    "_cell_guid": "4c2f266c-50b1-4cc3-a654-c1b4d1983279",
    "_uuid": "27c074b0dbbf9593942a5154583c9b7260988c5a"
   },
   "source": [
    "#### Most Critically Acclaimed Movies"
   ]
  },
  {
   "cell_type": "code",
   "execution_count": 46,
   "metadata": {
    "_cell_guid": "cd95b464-b136-4c32-91a2-c878936b211c",
    "_uuid": "59fbdc5942eb1d80331c18c540deffb5c4cf4ddf"
   },
   "outputs": [
    {
     "data": {
      "text/html": [
       "<div>\n",
       "<style scoped>\n",
       "    .dataframe tbody tr th:only-of-type {\n",
       "        vertical-align: middle;\n",
       "    }\n",
       "\n",
       "    .dataframe tbody tr th {\n",
       "        vertical-align: top;\n",
       "    }\n",
       "\n",
       "    .dataframe thead th {\n",
       "        text-align: right;\n",
       "    }\n",
       "</style>\n",
       "<table border=\"1\" class=\"dataframe\">\n",
       "  <thead>\n",
       "    <tr style=\"text-align: right;\">\n",
       "      <th></th>\n",
       "      <th>title</th>\n",
       "      <th>vote_average</th>\n",
       "      <th>vote_count</th>\n",
       "      <th>year</th>\n",
       "    </tr>\n",
       "  </thead>\n",
       "  <tbody>\n",
       "    <tr>\n",
       "      <th>314</th>\n",
       "      <td>The Shawshank Redemption</td>\n",
       "      <td>8.5</td>\n",
       "      <td>8358.0</td>\n",
       "      <td>1994</td>\n",
       "    </tr>\n",
       "    <tr>\n",
       "      <th>834</th>\n",
       "      <td>The Godfather</td>\n",
       "      <td>8.5</td>\n",
       "      <td>6024.0</td>\n",
       "      <td>1972</td>\n",
       "    </tr>\n",
       "    <tr>\n",
       "      <th>2211</th>\n",
       "      <td>Life Is Beautiful</td>\n",
       "      <td>8.3</td>\n",
       "      <td>3643.0</td>\n",
       "      <td>1997</td>\n",
       "    </tr>\n",
       "    <tr>\n",
       "      <th>5481</th>\n",
       "      <td>Spirited Away</td>\n",
       "      <td>8.3</td>\n",
       "      <td>3968.0</td>\n",
       "      <td>2001</td>\n",
       "    </tr>\n",
       "    <tr>\n",
       "      <th>1152</th>\n",
       "      <td>One Flew Over the Cuckoo's Nest</td>\n",
       "      <td>8.3</td>\n",
       "      <td>3001.0</td>\n",
       "      <td>1975</td>\n",
       "    </tr>\n",
       "  </tbody>\n",
       "</table>\n",
       "</div>"
      ],
      "text/plain": [
       "                                title  vote_average  vote_count  year\n",
       "314          The Shawshank Redemption           8.5      8358.0  1994\n",
       "834                     The Godfather           8.5      6024.0  1972\n",
       "2211                Life Is Beautiful           8.3      3643.0  1997\n",
       "5481                    Spirited Away           8.3      3968.0  2001\n",
       "1152  One Flew Over the Cuckoo's Nest           8.3      3001.0  1975"
      ]
     },
     "execution_count": 46,
     "metadata": {},
     "output_type": "execute_result"
    }
   ],
   "source": [
    "df[df['vote_count'] > 2000][['title', 'vote_average', 'vote_count' ,'year']].sort_values('vote_average', ascending=False).head()"
   ]
  },
  {
   "cell_type": "markdown",
   "metadata": {
    "_cell_guid": "735198d6-8e80-4f70-93e9-10e06e0d0c3c",
    "_uuid": "2485b7ecfef955646d549401baaaa25c620c3461"
   },
   "source": [
    "### Movie Release Dates"
   ]
  },
  {
   "cell_type": "code",
   "execution_count": 47,
   "metadata": {
    "_cell_guid": "46c2c44b-1c90-4386-950f-999c4f251bcb",
    "_uuid": "6394b891b5bc56ba4e8f40fc2738d366e1636bdf"
   },
   "outputs": [],
   "source": [
    "month_order = ['Jan', 'Feb', 'Mar', 'Apr', 'May', 'Jun', 'Jul', 'Aug', 'Sep', 'Oct', 'Nov', 'Dec']\n",
    "day_order = ['Mon', 'Tue', 'Wed', 'Thu', 'Fri', 'Sat', 'Sun']"
   ]
  },
  {
   "cell_type": "code",
   "execution_count": 48,
   "metadata": {
    "_cell_guid": "d0d186f6-ee22-4062-812a-1f2a1bbf27a1",
    "_uuid": "0d756782b22a73630ad4a255a34e347a5fa56406"
   },
   "outputs": [],
   "source": [
    "def get_month(x):\n",
    "    try:\n",
    "        return month_order[int(str(x).split('-')[1]) - 1]\n",
    "    except:\n",
    "        return np.nan"
   ]
  },
  {
   "cell_type": "code",
   "execution_count": 49,
   "metadata": {
    "_cell_guid": "bc6821cc-a113-45b3-9372-5596ab7a7216",
    "_uuid": "fd4b983f0a33d912671b396a2bcb327c4c855c28"
   },
   "outputs": [],
   "source": [
    "def get_day(x):\n",
    "    try:\n",
    "        year, month, day = (int(i) for i in x.split('-'))    \n",
    "        answer = datetime.date(year, month, day).weekday()\n",
    "        return day_order[answer]\n",
    "    except:\n",
    "        return np.nan"
   ]
  },
  {
   "cell_type": "code",
   "execution_count": 50,
   "metadata": {
    "_cell_guid": "f85706b5-8c08-4ed6-8636-15f4e1ab9bb3",
    "_uuid": "35947e8f6c26efe70be94124a081524ece119190"
   },
   "outputs": [],
   "source": [
    "df['day'] = df['release_date'].apply(get_day)\n",
    "df['month'] = df['release_date'].apply(get_month)"
   ]
  },
  {
   "cell_type": "code",
   "execution_count": 51,
   "metadata": {
    "_cell_guid": "a2bb569b-fdc2-4ad9-a0af-429a29690668",
    "_uuid": "3af6c851ffa4f4771ee7ab7990833c578f6f69e9"
   },
   "outputs": [
    {
     "data": {
      "text/plain": [
       "<matplotlib.axes._subplots.AxesSubplot at 0x298802bb4e0>"
      ]
     },
     "execution_count": 51,
     "metadata": {},
     "output_type": "execute_result"
    },
    {
     "data": {
      "image/png": "[encoded data removed]",
      "text/plain": [
       "<matplotlib.figure.Figure at 0x298802bbe48>"
      ]
     },
     "metadata": {},
     "output_type": "display_data"
    }
   ],
   "source": [
    "month_mean = pd.DataFrame(df[df['revenue'] > 1e8].groupby('month')['revenue'].mean())\n",
    "month_mean['mon'] = month_mean.index\n",
    "plt.figure(figsize=(12,6))\n",
    "plt.title(\"Average Gross by the Month for Blockbuster Movies\")\n",
    "sns.barplot(x='mon', y='revenue', data=month_mean, order=month_order)"
   ]
  },
  {
   "cell_type": "code",
   "execution_count": 52,
   "metadata": {
    "_cell_guid": "5b0f3988-4e0d-4471-9084-6a01cf8324ef",
    "_uuid": "a2ae57b72346929ff61e62254f3654b68c4a05e0"
   },
   "outputs": [
    {
     "data": {
      "text/plain": [
       "(0, 12)"
      ]
     },
     "execution_count": 52,
     "metadata": {},
     "output_type": "execute_result"
    },
    {
     "data": {
      "image/png": "[encoded data removed]",
      "text/plain": [
       "<matplotlib.figure.Figure at 0x298802b0e10>"
      ]
     },
     "metadata": {},
     "output_type": "display_data"
    }
   ],
   "source": [
    "fig, ax = plt.subplots(nrows=1, ncols=1,figsize=(15, 8))\n",
    "sns.boxplot(x='month', y='return', data=df[df['return'].notnull()], palette=\"muted\", ax =ax, order=month_order)\n",
    "ax.set_ylim([0, 12])"
   ]
  },
  {
   "cell_type": "code",
   "execution_count": 53,
   "metadata": {
    "_cell_guid": "62bbd924-f428-4191-b459-550834ac36ef",
    "_uuid": "5cb3411e24dba5ca1a1ec9a01e6f145864558627"
   },
   "outputs": [],
   "source": [
    "months = {'Jan': 1, 'Feb': 2, 'Mar': 3, 'Apr': 4, 'May': 5, 'Jun': 6, 'Jul': 7, 'Aug': 8, 'Sep': 9, 'Oct': 10, 'Nov': 11, 'Dec': 12}"
   ]
  },
  {
   "cell_type": "code",
   "execution_count": 54,
   "metadata": {
    "_cell_guid": "f2dfec95-b96a-483f-9609-c0c4462736d1",
    "_uuid": "3f47c5630e9ba1988028fdb331fd52d3b983d15d"
   },
   "outputs": [],
   "source": [
    "df_21 = df.copy()\n",
    "df_21['year'] = df_21[df_21['year'] != 'NaT']['year'].astype(int)\n",
    "df_21 = df_21[df_21['year'] >=2000]\n",
    "hmap_21 = pd.pivot_table(data=df_21, index='month', columns='year', aggfunc='count', values='title')\n",
    "hmap_21 = hmap_21.fillna(0)"
   ]
  },
  {
   "cell_type": "code",
   "execution_count": 55,
   "metadata": {
    "_cell_guid": "74809f3f-3c90-45ce-81e2-41d774dcc615",
    "_uuid": "c3ff5f257c77fc3e260bb086b1240d9c17421122"
   },
   "outputs": [
    {
     "data": {
      "text/plain": [
       "<matplotlib.axes._subplots.AxesSubplot at 0x29880504c18>"
      ]
     },
     "execution_count": 55,
     "metadata": {},
     "output_type": "execute_result"
    },
    {
     "data": {
      "image/png": "[encoded data removed]",
      "text/plain": [
       "<matplotlib.figure.Figure at 0x29880105a20>"
      ]
     },
     "metadata": {},
     "output_type": "display_data"
    }
   ],
   "source": [
    "sns.set(font_scale=1)\n",
    "f, ax = plt.subplots(figsize=(16, 8))\n",
    "sns.heatmap(hmap_21, annot=True, linewidths=.5, ax=ax, fmt='n', yticklabels=month_order)"
   ]
  },
  {
   "cell_type": "markdown",
   "metadata": {
    "_cell_guid": "1ca16df7-6cdd-47fa-a7dc-c4a066dde55e",
    "_uuid": "5aab5e480133173d72ca3d8c1954d8ad4ac7de2a"
   },
   "source": [
    "### Spoken Languages"
   ]
  },
  {
   "cell_type": "code",
   "execution_count": 56,
   "metadata": {
    "_cell_guid": "76ea778e-bdb1-422a-8422-b8b4092578e2",
    "_uuid": "3d0588c454a05b8641a619e8e909011709386dc1"
   },
   "outputs": [],
   "source": [
    "df['spoken_languages'] = df['spoken_languages'].fillna('[]').apply(ast.literal_eval).apply(lambda x: len(x) if isinstance(x, list) else np.nan)"
   ]
  },
  {
   "cell_type": "code",
   "execution_count": 57,
   "metadata": {
    "_cell_guid": "78d4b4a7-4af4-42ef-96dc-573275f73cbc",
    "_uuid": "cd8a1d528e4289d06faa221234b14d3610d692df"
   },
   "outputs": [
    {
     "data": {
      "text/plain": [
       "1     33736\n",
       "2      5371\n",
       "0      3835\n",
       "3      1705\n",
       "4       550\n",
       "5       178\n",
       "6        62\n",
       "7        14\n",
       "8         6\n",
       "9         5\n",
       "19        1\n",
       "13        1\n",
       "12        1\n",
       "10        1\n",
       "Name: spoken_languages, dtype: int64"
      ]
     },
     "execution_count": 57,
     "metadata": {},
     "output_type": "execute_result"
    }
   ],
   "source": [
    "df['spoken_languages'].value_counts()"
   ]
  },
  {
   "cell_type": "code",
   "execution_count": 58,
   "metadata": {
    "_cell_guid": "db62f96e-d805-40b1-b406-0960941bc7d7",
    "_uuid": "841bc44a4fef74917faab6339ad5e9276ca5f885"
   },
   "outputs": [
    {
     "data": {
      "text/html": [
       "<div>\n",
       "<style scoped>\n",
       "    .dataframe tbody tr th:only-of-type {\n",
       "        vertical-align: middle;\n",
       "    }\n",
       "\n",
       "    .dataframe tbody tr th {\n",
       "        vertical-align: top;\n",
       "    }\n",
       "\n",
       "    .dataframe thead th {\n",
       "        text-align: right;\n",
       "    }\n",
       "</style>\n",
       "<table border=\"1\" class=\"dataframe\">\n",
       "  <thead>\n",
       "    <tr style=\"text-align: right;\">\n",
       "      <th></th>\n",
       "      <th>title</th>\n",
       "      <th>year</th>\n",
       "      <th>spoken_languages</th>\n",
       "    </tr>\n",
       "  </thead>\n",
       "  <tbody>\n",
       "    <tr>\n",
       "      <th>22235</th>\n",
       "      <td>Visions of Europe</td>\n",
       "      <td>2004</td>\n",
       "      <td>19</td>\n",
       "    </tr>\n",
       "    <tr>\n",
       "      <th>35288</th>\n",
       "      <td>The Testaments</td>\n",
       "      <td>2000</td>\n",
       "      <td>13</td>\n",
       "    </tr>\n",
       "    <tr>\n",
       "      <th>14093</th>\n",
       "      <td>To Each His Own Cinema</td>\n",
       "      <td>2007</td>\n",
       "      <td>12</td>\n",
       "    </tr>\n",
       "    <tr>\n",
       "      <th>8789</th>\n",
       "      <td>The Adventures of Picasso</td>\n",
       "      <td>1978</td>\n",
       "      <td>10</td>\n",
       "    </tr>\n",
       "  </tbody>\n",
       "</table>\n",
       "</div>"
      ],
      "text/plain": [
       "                           title  year  spoken_languages\n",
       "22235          Visions of Europe  2004                19\n",
       "35288             The Testaments  2000                13\n",
       "14093     To Each His Own Cinema  2007                12\n",
       "8789   The Adventures of Picasso  1978                10"
      ]
     },
     "execution_count": 58,
     "metadata": {},
     "output_type": "execute_result"
    }
   ],
   "source": [
    "df[df['spoken_languages'] >= 10][['title', 'year', 'spoken_languages']].sort_values('spoken_languages', ascending=False)"
   ]
  },
  {
   "cell_type": "markdown",
   "metadata": {
    "_cell_guid": "4820b7d7-7273-44ec-8d97-5be9d6f621b0",
    "_uuid": "2a56635c62be47fac6292b4b177ffc7fa28aec32"
   },
   "source": [
    "### Runtime"
   ]
  },
  {
   "cell_type": "code",
   "execution_count": 59,
   "metadata": {
    "_cell_guid": "1c55c803-3296-4de8-b38e-dd9c5b63590e",
    "_uuid": "84207eef3b6992ce4ba61886498de3340cfe43a4"
   },
   "outputs": [],
   "source": [
    "df['runtime'] = df['runtime'].astype('float')"
   ]
  },
  {
   "cell_type": "code",
   "execution_count": 60,
   "metadata": {
    "_cell_guid": "071b5052-317a-410f-aad1-fcce106282bd",
    "_uuid": "22979718c38e9c8509d98de957704a38272eefbf"
   },
   "outputs": [
    {
     "data": {
      "text/plain": [
       "<matplotlib.axes._subplots.AxesSubplot at 0x2988c63df98>"
      ]
     },
     "execution_count": 60,
     "metadata": {},
     "output_type": "execute_result"
    },
    {
     "data": {
      "image/png": "[encoded data removed]",
      "text/plain": [
       "<matplotlib.figure.Figure at 0x2988c63de10>"
      ]
     },
     "metadata": {},
     "output_type": "display_data"
    }
   ],
   "source": [
    "plt.figure(figsize=(12,6))\n",
    "sns.distplot(df[(df['runtime'] < 300) & (df['runtime'] > 0)]['runtime'])"
   ]
  },
  {
   "cell_type": "markdown",
   "metadata": {
    "_cell_guid": "973c392d-1b3c-4eb6-9d58-b36d95defd95",
    "_uuid": "0a7178d0d3c7f7d97ce05785455a57072a54e72c"
   },
   "source": [
    "### Budget"
   ]
  },
  {
   "cell_type": "code",
   "execution_count": 61,
   "metadata": {
    "_cell_guid": "8e534e6c-2a2d-48f7-a3bf-0020c10262dd",
    "_uuid": "216d4274bb3f7b72dfa04078bd9276bc677a2039",
    "scrolled": true
   },
   "outputs": [
    {
     "data": {
      "text/plain": [
       "<matplotlib.axes._subplots.AxesSubplot at 0x2988c63d4e0>"
      ]
     },
     "execution_count": 61,
     "metadata": {},
     "output_type": "execute_result"
    },
    {
     "data": {
      "image/png": "[encoded data removed]",
      "text/plain": [
       "<matplotlib.figure.Figure at 0x29880212f28>"
      ]
     },
     "metadata": {},
     "output_type": "display_data"
    }
   ],
   "source": [
    "sns.distplot(df[df['budget'].notnull()]['budget'])"
   ]
  },
  {
   "cell_type": "code",
   "execution_count": 62,
   "metadata": {
    "_cell_guid": "5d439a6e-b295-4c4d-8060-2b5867c4df0d",
    "_uuid": "5dd3be43c14e38e428e538f4a737f867d707b57c"
   },
   "outputs": [
    {
     "data": {
      "text/plain": [
       "<matplotlib.axes._subplots.AxesSubplot at 0x2988e5027f0>"
      ]
     },
     "execution_count": 62,
     "metadata": {},
     "output_type": "execute_result"
    },
    {
     "data": {
      "image/png": "[encoded data removed]",
      "text/plain": [
       "<matplotlib.figure.Figure at 0x2988e238cc0>"
      ]
     },
     "metadata": {},
     "output_type": "display_data"
    }
   ],
   "source": [
    "df['budget'].plot(logy=True, kind='hist')"
   ]
  },
  {
   "cell_type": "markdown",
   "metadata": {
    "_cell_guid": "87ee5867-b99c-4ff6-a6f9-9788eb354b09",
    "_uuid": "947fd82c2d8b61bb7ab0d94991b9af10590a2469"
   },
   "source": [
    "### Revenue"
   ]
  },
  {
   "cell_type": "code",
   "execution_count": 63,
   "metadata": {
    "_cell_guid": "b04463a0-b0d0-4eb4-b017-899fac835689",
    "_uuid": "85478f240d6454c2a1ea23a7b412d2b6803b4734"
   },
   "outputs": [
    {
     "data": {
      "text/plain": [
       "<matplotlib.axes._subplots.AxesSubplot at 0x2988dd80ef0>"
      ]
     },
     "execution_count": 63,
     "metadata": {},
     "output_type": "execute_result"
    },
    {
     "data": {
      "image/png": "[encoded data removed]",
      "text/plain": [
       "<matplotlib.figure.Figure at 0x2988dcf10f0>"
      ]
     },
     "metadata": {},
     "output_type": "display_data"
    }
   ],
   "source": [
    "sns.distplot(df[df['revenue'].notnull()]['revenue'])"
   ]
  },
  {
   "cell_type": "markdown",
   "metadata": {
    "_cell_guid": "ae48257b-980d-4627-95e5-ca4773523277",
    "_uuid": "19adf31cf13438dc4e17c23d65d2570dcc0d2a15"
   },
   "source": [
    "#### Highest Grossing Films of All Time"
   ]
  },
  {
   "cell_type": "code",
   "execution_count": 64,
   "metadata": {
    "_cell_guid": "1c1dc39c-163c-412f-8230-48ccfe143e67",
    "_uuid": "c78514a455932dcd1f700bd4bb1caf668fa6eeac"
   },
   "outputs": [
    {
     "data": {
      "text/html": [
       "<table border=\"1\" class=\"dataframe\">\n",
       "  <thead>\n",
       "    <tr style=\"text-align: right;\">\n",
       "      <th></th>\n",
       "      <th>poster_path</th>\n",
       "      <th>title</th>\n",
       "      <th>budget</th>\n",
       "      <th>revenue</th>\n",
       "      <th>year</th>\n",
       "    </tr>\n",
       "  </thead>\n",
       "  <tbody>\n",
       "    <tr>\n",
       "      <th>14551</th>\n",
       "      <td><img src='http://image.tmdb.org/t/p/w185//kmcqlZGaSh20zpTbuoF0Cdn07dT.jpg' style='height:100px;'></td>\n",
       "      <td>Avatar</td>\n",
       "      <td>237000000.0</td>\n",
       "      <td>2.787965e+09</td>\n",
       "      <td>2009</td>\n",
       "    </tr>\n",
       "    <tr>\n",
       "      <th>26555</th>\n",
       "      <td><img src='http://image.tmdb.org/t/p/w185//weUSwMdQIa3NaXVzwUoIIcAi85d.jpg' style='height:100px;'></td>\n",
       "      <td>Star Wars: The Force Awakens</td>\n",
       "      <td>245000000.0</td>\n",
       "      <td>2.068224e+09</td>\n",
       "      <td>2015</td>\n",
       "    </tr>\n",
       "    <tr>\n",
       "      <th>1639</th>\n",
       "      <td><img src='http://image.tmdb.org/t/p/w185//kHXEpyfl6zqn8a6YuozZUujufXf.jpg' style='height:100px;'></td>\n",
       "      <td>Titanic</td>\n",
       "      <td>200000000.0</td>\n",
       "      <td>1.845034e+09</td>\n",
       "      <td>1997</td>\n",
       "    </tr>\n",
       "    <tr>\n",
       "      <th>17818</th>\n",
       "      <td><img src='http://image.tmdb.org/t/p/w185//cezWGskPY5x7GaglTTRN4Fugfb8.jpg' style='height:100px;'></td>\n",
       "      <td>The Avengers</td>\n",
       "      <td>220000000.0</td>\n",
       "      <td>1.519558e+09</td>\n",
       "      <td>2012</td>\n",
       "    </tr>\n",
       "    <tr>\n",
       "      <th>25084</th>\n",
       "      <td><img src='http://image.tmdb.org/t/p/w185//jjBgi2r5cRt36xF6iNUEhzscEcb.jpg' style='height:100px;'></td>\n",
       "      <td>Jurassic World</td>\n",
       "      <td>150000000.0</td>\n",
       "      <td>1.513529e+09</td>\n",
       "      <td>2015</td>\n",
       "    </tr>\n",
       "    <tr>\n",
       "      <th>28830</th>\n",
       "      <td><img src='http://image.tmdb.org/t/p/w185//dCgm7efXDmiABSdWDHBDBx2jwmn.jpg' style='height:100px;'></td>\n",
       "      <td>Furious 7</td>\n",
       "      <td>190000000.0</td>\n",
       "      <td>1.506249e+09</td>\n",
       "      <td>2015</td>\n",
       "    </tr>\n",
       "    <tr>\n",
       "      <th>26558</th>\n",
       "      <td><img src='http://image.tmdb.org/t/p/w185//t90Y3G8UGQp0f0DrP60wRu9gfrH.jpg' style='height:100px;'></td>\n",
       "      <td>Avengers: Age of Ultron</td>\n",
       "      <td>280000000.0</td>\n",
       "      <td>1.405404e+09</td>\n",
       "      <td>2015</td>\n",
       "    </tr>\n",
       "    <tr>\n",
       "      <th>17437</th>\n",
       "      <td><img src='http://image.tmdb.org/t/p/w185//fTplI1NCSuEDP4ITLcTps739fcC.jpg' style='height:100px;'></td>\n",
       "      <td>Harry Potter and the Deathly Hallows: Part 2</td>\n",
       "      <td>125000000.0</td>\n",
       "      <td>1.342000e+09</td>\n",
       "      <td>2011</td>\n",
       "    </tr>\n",
       "    <tr>\n",
       "      <th>22110</th>\n",
       "      <td><img src='http://image.tmdb.org/t/p/w185//jIjdFXKUNtdf1bwqMrhearpyjMj.jpg' style='height:100px;'></td>\n",
       "      <td>Frozen</td>\n",
       "      <td>150000000.0</td>\n",
       "      <td>1.274219e+09</td>\n",
       "      <td>2013</td>\n",
       "    </tr>\n",
       "    <tr>\n",
       "      <th>42222</th>\n",
       "      <td><img src='http://image.tmdb.org/t/p/w185//tWqifoYuwLETmmasnGHO7xBjEtt.jpg' style='height:100px;'></td>\n",
       "      <td>Beauty and the Beast</td>\n",
       "      <td>160000000.0</td>\n",
       "      <td>1.262886e+09</td>\n",
       "      <td>2017</td>\n",
       "    </tr>\n",
       "  </tbody>\n",
       "</table>"
      ],
      "text/plain": [
       "<IPython.core.display.HTML object>"
      ]
     },
     "execution_count": 64,
     "metadata": {},
     "output_type": "execute_result"
    }
   ],
   "source": [
    "gross_top = df[['poster_path', 'title', 'budget', 'revenue', 'year']].sort_values('revenue', ascending=False).head(10)\n",
    "pd.set_option('display.max_colwidth', 100)\n",
    "HTML(gross_top.to_html(escape=False))"
   ]
  },
  {
   "cell_type": "markdown",
   "metadata": {
    "_cell_guid": "79469a30-3f0e-43be-a80d-43ecc363952d",
    "_uuid": "f248e9cc7ef017ed7273459d089c409dd79d2cfb"
   },
   "source": [
    "### Returns"
   ]
  },
  {
   "cell_type": "markdown",
   "metadata": {
    "_cell_guid": "f9d2a37d-02fa-48e9-956f-d0b864d6edd2",
    "_uuid": "f270dcae61117fc070b20d5ef85af06dbef6e432"
   },
   "source": [
    "#### Successful Movies Ranking"
   ]
  },
  {
   "cell_type": "code",
   "execution_count": 65,
   "metadata": {
    "_cell_guid": "9cef8512-7e7b-4151-b781-36cf795a12a4",
    "_uuid": "7fc9f3fad7d0a850d11a332dcd69f9c1e6a9cb91"
   },
   "outputs": [
    {
     "data": {
      "text/html": [
       "<div>\n",
       "<style scoped>\n",
       "    .dataframe tbody tr th:only-of-type {\n",
       "        vertical-align: middle;\n",
       "    }\n",
       "\n",
       "    .dataframe tbody tr th {\n",
       "        vertical-align: top;\n",
       "    }\n",
       "\n",
       "    .dataframe thead th {\n",
       "        text-align: right;\n",
       "    }\n",
       "</style>\n",
       "<table border=\"1\" class=\"dataframe\">\n",
       "  <thead>\n",
       "    <tr style=\"text-align: right;\">\n",
       "      <th></th>\n",
       "      <th>title</th>\n",
       "      <th>budget</th>\n",
       "      <th>revenue</th>\n",
       "      <th>return</th>\n",
       "      <th>year</th>\n",
       "    </tr>\n",
       "  </thead>\n",
       "  <tbody>\n",
       "    <tr>\n",
       "      <th>1065</th>\n",
       "      <td>E.T. the Extra-Terrestrial</td>\n",
       "      <td>10500000.0</td>\n",
       "      <td>792965326.0</td>\n",
       "      <td>75.520507</td>\n",
       "      <td>1982</td>\n",
       "    </tr>\n",
       "    <tr>\n",
       "      <th>256</th>\n",
       "      <td>Star Wars</td>\n",
       "      <td>11000000.0</td>\n",
       "      <td>775398007.0</td>\n",
       "      <td>70.490728</td>\n",
       "      <td>1977</td>\n",
       "    </tr>\n",
       "    <tr>\n",
       "      <th>1338</th>\n",
       "      <td>Jaws</td>\n",
       "      <td>7000000.0</td>\n",
       "      <td>470654000.0</td>\n",
       "      <td>67.236286</td>\n",
       "      <td>1975</td>\n",
       "    </tr>\n",
       "    <tr>\n",
       "      <th>1888</th>\n",
       "      <td>The Exorcist</td>\n",
       "      <td>8000000.0</td>\n",
       "      <td>441306145.0</td>\n",
       "      <td>55.163268</td>\n",
       "      <td>1973</td>\n",
       "    </tr>\n",
       "    <tr>\n",
       "      <th>352</th>\n",
       "      <td>Four Weddings and a Funeral</td>\n",
       "      <td>6000000.0</td>\n",
       "      <td>254700832.0</td>\n",
       "      <td>42.450139</td>\n",
       "      <td>1994</td>\n",
       "    </tr>\n",
       "  </tbody>\n",
       "</table>\n",
       "</div>"
      ],
      "text/plain": [
       "                            title      budget      revenue     return  year\n",
       "1065   E.T. the Extra-Terrestrial  10500000.0  792965326.0  75.520507  1982\n",
       "256                     Star Wars  11000000.0  775398007.0  70.490728  1977\n",
       "1338                         Jaws   7000000.0  470654000.0  67.236286  1975\n",
       "1888                 The Exorcist   8000000.0  441306145.0  55.163268  1973\n",
       "352   Four Weddings and a Funeral   6000000.0  254700832.0  42.450139  1994"
      ]
     },
     "execution_count": 65,
     "metadata": {},
     "output_type": "execute_result"
    }
   ],
   "source": [
    "df[(df['return'].notnull()) & (df['budget'] > 5e6)][['title', 'budget', 'revenue', 'return', 'year']].sort_values('return', ascending=False).head()"
   ]
  },
  {
   "cell_type": "markdown",
   "metadata": {
    "_cell_guid": "4887ae53-a546-4e93-bd17-6323b4dd631e",
    "_uuid": "019af8df28340df84df3c52c4df06eba1a43ea4b"
   },
   "source": [
    "#### Worst Movies Ranking"
   ]
  },
  {
   "cell_type": "code",
   "execution_count": 66,
   "metadata": {
    "_cell_guid": "42dd475f-f83b-4278-b505-5366d240dad5",
    "_uuid": "0befee4902682b9a42d355617e61c275bb25cd34"
   },
   "outputs": [
    {
     "data": {
      "text/html": [
       "<div>\n",
       "<style scoped>\n",
       "    .dataframe tbody tr th:only-of-type {\n",
       "        vertical-align: middle;\n",
       "    }\n",
       "\n",
       "    .dataframe tbody tr th {\n",
       "        vertical-align: top;\n",
       "    }\n",
       "\n",
       "    .dataframe thead th {\n",
       "        text-align: right;\n",
       "    }\n",
       "</style>\n",
       "<table border=\"1\" class=\"dataframe\">\n",
       "  <thead>\n",
       "    <tr style=\"text-align: right;\">\n",
       "      <th></th>\n",
       "      <th>title</th>\n",
       "      <th>budget</th>\n",
       "      <th>revenue</th>\n",
       "      <th>return</th>\n",
       "      <th>year</th>\n",
       "    </tr>\n",
       "  </thead>\n",
       "  <tbody>\n",
       "    <tr>\n",
       "      <th>11159</th>\n",
       "      <td>Chaos</td>\n",
       "      <td>20000000.0</td>\n",
       "      <td>10289.0</td>\n",
       "      <td>0.000514</td>\n",
       "      <td>2005</td>\n",
       "    </tr>\n",
       "    <tr>\n",
       "      <th>19027</th>\n",
       "      <td>5 Days of War</td>\n",
       "      <td>20000000.0</td>\n",
       "      <td>17479.0</td>\n",
       "      <td>0.000874</td>\n",
       "      <td>2011</td>\n",
       "    </tr>\n",
       "    <tr>\n",
       "      <th>21034</th>\n",
       "      <td>Special Forces</td>\n",
       "      <td>10000000.0</td>\n",
       "      <td>10759.0</td>\n",
       "      <td>0.001076</td>\n",
       "      <td>2011</td>\n",
       "    </tr>\n",
       "    <tr>\n",
       "      <th>25732</th>\n",
       "      <td>Foodfight!</td>\n",
       "      <td>65000000.0</td>\n",
       "      <td>73706.0</td>\n",
       "      <td>0.001134</td>\n",
       "      <td>2012</td>\n",
       "    </tr>\n",
       "    <tr>\n",
       "      <th>38388</th>\n",
       "      <td>Term Life</td>\n",
       "      <td>16500000.0</td>\n",
       "      <td>21256.0</td>\n",
       "      <td>0.001288</td>\n",
       "      <td>2016</td>\n",
       "    </tr>\n",
       "  </tbody>\n",
       "</table>\n",
       "</div>"
      ],
      "text/plain": [
       "                title      budget  revenue    return  year\n",
       "11159           Chaos  20000000.0  10289.0  0.000514  2005\n",
       "19027   5 Days of War  20000000.0  17479.0  0.000874  2011\n",
       "21034  Special Forces  10000000.0  10759.0  0.001076  2011\n",
       "25732      Foodfight!  65000000.0  73706.0  0.001134  2012\n",
       "38388       Term Life  16500000.0  21256.0  0.001288  2016"
      ]
     },
     "execution_count": 66,
     "metadata": {},
     "output_type": "execute_result"
    }
   ],
   "source": [
    "df[(df['return'].notnull()) & (df['budget'] > 5e6) & (df['revenue'] > 10000)][['title', 'budget', 'revenue', 'return', 'year']].sort_values('return').head()"
   ]
  },
  {
   "cell_type": "code",
   "execution_count": 67,
   "metadata": {
    "_cell_guid": "2efe39aa-a1d1-4d90-90f3-272b9505ce59",
    "_uuid": "8fe39856f3bdd4b7ed2603651353b0e21264c768"
   },
   "outputs": [],
   "source": [
    "df['year'] = df['year'].replace('NaT', np.nan)"
   ]
  },
  {
   "cell_type": "code",
   "execution_count": 68,
   "metadata": {
    "_cell_guid": "5fbd049f-1470-4dce-aa54-6b7170a99b4f",
    "_uuid": "c65b50fc111340ad7f931b8da29572adc9e54016"
   },
   "outputs": [],
   "source": [
    "df['year'] = df['year'].apply(clean_numeric)"
   ]
  },
  {
   "cell_type": "code",
   "execution_count": 69,
   "metadata": {
    "_cell_guid": "f9f40de3-2617-4aed-a50c-a0b2db62b5eb",
    "_uuid": "055de57e57ad45ec20d2b3cba1a0fd4bdfd87a31"
   },
   "outputs": [
    {
     "data": {
      "image/png": "[encoded data removed]",
      "text/plain": [
       "<matplotlib.figure.Figure at 0x2988d85ed30>"
      ]
     },
     "metadata": {},
     "output_type": "display_data"
    }
   ],
   "source": [
    "sns.set(font_scale=1)\n",
    "corr = df.corr()\n",
    "mask = np.zeros_like(corr)\n",
    "mask[np.triu_indices_from(mask)] = True\n",
    "with sns.axes_style(\"white\"):\n",
    "    plt.figure(figsize=(9,9))\n",
    "    ax = sns.heatmap(corr, mask=mask, vmax=.3, square=True, annot=True)"
   ]
  },
  {
   "cell_type": "markdown",
   "metadata": {
    "_cell_guid": "3a03df7e-351e-4f45-be7d-ca5e865e147c",
    "_uuid": "6d5589445a96444681322f4555bb18922cdb0869"
   },
   "source": [
    "### Genres"
   ]
  },
  {
   "cell_type": "code",
   "execution_count": 70,
   "metadata": {
    "_cell_guid": "94698a20-8bc7-41ac-9cc0-00eb9aafdfbe",
    "_uuid": "d83d58f01d761555be287ebb1352f1111ae73730"
   },
   "outputs": [],
   "source": [
    "df['genres'] = df['genres'].fillna('[]').apply(ast.literal_eval).apply(lambda x: [i['name'] for i in x] if isinstance(x, list) else [])"
   ]
  },
  {
   "cell_type": "code",
   "execution_count": 71,
   "metadata": {
    "_cell_guid": "a2932405-c766-48e5-a2a7-5a8907abf3e2",
    "_uuid": "01bfaf72bae3e4b1d7e187ba75a7d9a304e3b715"
   },
   "outputs": [],
   "source": [
    "s = df.apply(lambda x: pd.Series(x['genres']),axis=1).stack().reset_index(level=1, drop=True)\n",
    "s.name = 'genre'"
   ]
  },
  {
   "cell_type": "code",
   "execution_count": 72,
   "metadata": {
    "_cell_guid": "118a8148-8110-4e0d-901c-6f0cdfd1d87c",
    "_uuid": "c7c8169ed387344d514bb97df4e7a76262cba69d"
   },
   "outputs": [],
   "source": [
    "gen_df = df.drop('genres', axis=1).join(s)"
   ]
  },
  {
   "cell_type": "code",
   "execution_count": 73,
   "metadata": {
    "_cell_guid": "609338c4-4d99-4af8-aa2b-ca9478f1acf5",
    "_uuid": "01e32b9b382a186867c6cccd252435875d65ae5c"
   },
   "outputs": [
    {
     "data": {
      "text/plain": [
       "32"
      ]
     },
     "execution_count": 73,
     "metadata": {},
     "output_type": "execute_result"
    }
   ],
   "source": [
    "gen_df['genre'].value_counts().shape[0]"
   ]
  },
  {
   "cell_type": "code",
   "execution_count": 74,
   "metadata": {
    "_cell_guid": "ea144ea9-dfe5-42e9-9c06-37cc0e75d0bb",
    "_uuid": "56600558af3f9c273a196d48ed255c8d4a45e45c"
   },
   "outputs": [
    {
     "data": {
      "text/html": [
       "<div>\n",
       "<style scoped>\n",
       "    .dataframe tbody tr th:only-of-type {\n",
       "        vertical-align: middle;\n",
       "    }\n",
       "\n",
       "    .dataframe tbody tr th {\n",
       "        vertical-align: top;\n",
       "    }\n",
       "\n",
       "    .dataframe thead th {\n",
       "        text-align: right;\n",
       "    }\n",
       "</style>\n",
       "<table border=\"1\" class=\"dataframe\">\n",
       "  <thead>\n",
       "    <tr style=\"text-align: right;\">\n",
       "      <th></th>\n",
       "      <th>genre</th>\n",
       "      <th>movies</th>\n",
       "    </tr>\n",
       "  </thead>\n",
       "  <tbody>\n",
       "    <tr>\n",
       "      <th>0</th>\n",
       "      <td>Drama</td>\n",
       "      <td>20265</td>\n",
       "    </tr>\n",
       "    <tr>\n",
       "      <th>1</th>\n",
       "      <td>Comedy</td>\n",
       "      <td>13182</td>\n",
       "    </tr>\n",
       "    <tr>\n",
       "      <th>2</th>\n",
       "      <td>Thriller</td>\n",
       "      <td>7624</td>\n",
       "    </tr>\n",
       "    <tr>\n",
       "      <th>3</th>\n",
       "      <td>Romance</td>\n",
       "      <td>6735</td>\n",
       "    </tr>\n",
       "    <tr>\n",
       "      <th>4</th>\n",
       "      <td>Action</td>\n",
       "      <td>6596</td>\n",
       "    </tr>\n",
       "  </tbody>\n",
       "</table>\n",
       "</div>"
      ],
      "text/plain": [
       "      genre  movies\n",
       "0     Drama   20265\n",
       "1    Comedy   13182\n",
       "2  Thriller    7624\n",
       "3   Romance    6735\n",
       "4    Action    6596"
      ]
     },
     "execution_count": 74,
     "metadata": {},
     "output_type": "execute_result"
    }
   ],
   "source": [
    "pop_gen = pd.DataFrame(gen_df['genre'].value_counts()).reset_index()\n",
    "pop_gen.columns = ['genre', 'movies']\n",
    "pop_gen.head()"
   ]
  },
  {
   "cell_type": "code",
   "execution_count": 75,
   "metadata": {
    "_cell_guid": "27c71ee8-4121-4e52-b789-3893d7d09454",
    "_uuid": "a94d5c8b2b645e2b64e297b3d68a5f18bf49a5a2"
   },
   "outputs": [],
   "source": [
    "violin_genres = ['Drama', 'Comedy', 'Thriller', 'Romance', 'Action', 'Horror', 'Crime', 'Science Fiction', 'Fantasy', 'Animation']\n",
    "violin_movies = gen_df[(gen_df['genre'].isin(violin_genres))]"
   ]
  },
  {
   "cell_type": "code",
   "execution_count": 76,
   "metadata": {
    "_cell_guid": "3b2b4bed-584c-4efb-a2a4-17f630e36a29",
    "_uuid": "8bd05b44d6a42ff6d9ed1d723f2448adbc5f4720"
   },
   "outputs": [
    {
     "data": {
      "text/plain": [
       "<matplotlib.figure.Figure at 0x2988cd96278>"
      ]
     },
     "metadata": {},
     "output_type": "display_data"
    },
    {
     "data": {
      "image/png": "[encoded data removed]",
      "text/plain": [
       "<matplotlib.figure.Figure at 0x2988cd96320>"
      ]
     },
     "metadata": {},
     "output_type": "display_data"
    }
   ],
   "source": [
    "plt.figure(figsize=(18,8))\n",
    "fig, ax = plt.subplots(nrows=1, ncols=1,figsize=(15, 8))\n",
    "sns.boxplot(x='genre', y='revenue', data=violin_movies, palette=\"muted\", ax =ax)\n",
    "ax.set_ylim([0, 3e8])\n",
    "plt.show()"
   ]
  },
  {
   "cell_type": "code",
   "execution_count": 77,
   "metadata": {
    "_cell_guid": "7c062b92-00b0-48a9-8336-8047bdc9a77d",
    "_uuid": "dd307dbc9edbb81a1a2bfd63e73bc85ffe73a78e"
   },
   "outputs": [
    {
     "data": {
      "text/plain": [
       "<matplotlib.figure.Figure at 0x2988e3cb908>"
      ]
     },
     "metadata": {},
     "output_type": "display_data"
    },
    {
     "data": {
      "image/png": "[encoded data removed]",
      "text/plain": [
       "<matplotlib.figure.Figure at 0x2988e3cbf28>"
      ]
     },
     "metadata": {},
     "output_type": "display_data"
    }
   ],
   "source": [
    "plt.figure(figsize=(18,8))\n",
    "fig, ax = plt.subplots(nrows=1, ncols=1,figsize=(15, 8))\n",
    "sns.boxplot(x='genre', y='return', data=violin_movies, palette=\"muted\", ax =ax)\n",
    "ax.set_ylim([0, 10])\n",
    "plt.show()"
   ]
  },
  {
   "cell_type": "markdown",
   "metadata": {
    "_cell_guid": "6516265c-18a6-4d82-808c-648d23f36a48",
    "_uuid": "e52d8ea1baab2cc86fe3df0e6be438e0f36a8598",
    "collapsed": true
   },
   "source": [
    "### Cast and Crew"
   ]
  },
  {
   "cell_type": "code",
   "execution_count": 78,
   "metadata": {
    "_cell_guid": "3a782c7f-50fe-4e97-b3b9-a9622b79ba5d",
    "_uuid": "a7f0bf886859c51d5d979d73bda4dd818b385b42"
   },
   "outputs": [
    {
     "data": {
      "text/html": [
       "<div>\n",
       "<style scoped>\n",
       "    .dataframe tbody tr th:only-of-type {\n",
       "        vertical-align: middle;\n",
       "    }\n",
       "\n",
       "    .dataframe tbody tr th {\n",
       "        vertical-align: top;\n",
       "    }\n",
       "\n",
       "    .dataframe thead th {\n",
       "        text-align: right;\n",
       "    }\n",
       "</style>\n",
       "<table border=\"1\" class=\"dataframe\">\n",
       "  <thead>\n",
       "    <tr style=\"text-align: right;\">\n",
       "      <th></th>\n",
       "      <th>cast</th>\n",
       "      <th>crew</th>\n",
       "      <th>id</th>\n",
       "    </tr>\n",
       "  </thead>\n",
       "  <tbody>\n",
       "    <tr>\n",
       "      <th>0</th>\n",
       "      <td>[{'cast_id': 14, 'character': 'Woody (voice)', 'credit_id': '52fe4284c3a36847f8024f95', 'gender'...</td>\n",
       "      <td>[{'credit_id': '52fe4284c3a36847f8024f49', 'department': 'Directing', 'gender': 2, 'id': 7879, '...</td>\n",
       "      <td>862</td>\n",
       "    </tr>\n",
       "    <tr>\n",
       "      <th>1</th>\n",
       "      <td>[{'cast_id': 1, 'character': 'Alan Parrish', 'credit_id': '52fe44bfc3a36847f80a7c73', 'gender': ...</td>\n",
       "      <td>[{'credit_id': '52fe44bfc3a36847f80a7cd1', 'department': 'Production', 'gender': 2, 'id': 511, '...</td>\n",
       "      <td>8844</td>\n",
       "    </tr>\n",
       "    <tr>\n",
       "      <th>2</th>\n",
       "      <td>[{'cast_id': 2, 'character': 'Max Goldman', 'credit_id': '52fe466a9251416c75077a8d', 'gender': 2...</td>\n",
       "      <td>[{'credit_id': '52fe466a9251416c75077a89', 'department': 'Directing', 'gender': 2, 'id': 26502, ...</td>\n",
       "      <td>15602</td>\n",
       "    </tr>\n",
       "    <tr>\n",
       "      <th>3</th>\n",
       "      <td>[{'cast_id': 1, 'character': \"Savannah 'Vannah' Jackson\", 'credit_id': '52fe44779251416c91011aad...</td>\n",
       "      <td>[{'credit_id': '52fe44779251416c91011acb', 'department': 'Directing', 'gender': 2, 'id': 2178, '...</td>\n",
       "      <td>31357</td>\n",
       "    </tr>\n",
       "    <tr>\n",
       "      <th>4</th>\n",
       "      <td>[{'cast_id': 1, 'character': 'George Banks', 'credit_id': '52fe44959251416c75039eb9', 'gender': ...</td>\n",
       "      <td>[{'credit_id': '52fe44959251416c75039ed7', 'department': 'Sound', 'gender': 2, 'id': 37, 'job': ...</td>\n",
       "      <td>11862</td>\n",
       "    </tr>\n",
       "  </tbody>\n",
       "</table>\n",
       "</div>"
      ],
      "text/plain": [
       "                                                                                                  cast  \\\n",
       "0  [{'cast_id': 14, 'character': 'Woody (voice)', 'credit_id': '52fe4284c3a36847f8024f95', 'gender'...   \n",
       "1  [{'cast_id': 1, 'character': 'Alan Parrish', 'credit_id': '52fe44bfc3a36847f80a7c73', 'gender': ...   \n",
       "2  [{'cast_id': 2, 'character': 'Max Goldman', 'credit_id': '52fe466a9251416c75077a8d', 'gender': 2...   \n",
       "3  [{'cast_id': 1, 'character': \"Savannah 'Vannah' Jackson\", 'credit_id': '52fe44779251416c91011aad...   \n",
       "4  [{'cast_id': 1, 'character': 'George Banks', 'credit_id': '52fe44959251416c75039eb9', 'gender': ...   \n",
       "\n",
       "                                                                                                  crew  \\\n",
       "0  [{'credit_id': '52fe4284c3a36847f8024f49', 'department': 'Directing', 'gender': 2, 'id': 7879, '...   \n",
       "1  [{'credit_id': '52fe44bfc3a36847f80a7cd1', 'department': 'Production', 'gender': 2, 'id': 511, '...   \n",
       "2  [{'credit_id': '52fe466a9251416c75077a89', 'department': 'Directing', 'gender': 2, 'id': 26502, ...   \n",
       "3  [{'credit_id': '52fe44779251416c91011acb', 'department': 'Directing', 'gender': 2, 'id': 2178, '...   \n",
       "4  [{'credit_id': '52fe44959251416c75039ed7', 'department': 'Sound', 'gender': 2, 'id': 37, 'job': ...   \n",
       "\n",
       "      id  \n",
       "0    862  \n",
       "1   8844  \n",
       "2  15602  \n",
       "3  31357  \n",
       "4  11862  "
      ]
     },
     "execution_count": 78,
     "metadata": {},
     "output_type": "execute_result"
    }
   ],
   "source": [
    "credits_df = pd.read_csv('E:/Data Science/Experience/Movies_Dataset/credits.csv')\n",
    "credits_df.head()"
   ]
  },
  {
   "cell_type": "code",
   "execution_count": 79,
   "metadata": {
    "_cell_guid": "16e7c562-7270-4bd7-925b-0e48ab58d439",
    "_uuid": "93886038cafd2902c760bc80763e152e745fa50d"
   },
   "outputs": [],
   "source": [
    "def convert_int(x):\n",
    "    try:\n",
    "        return int(x)\n",
    "    except:\n",
    "        return np.nan"
   ]
  },
  {
   "cell_type": "code",
   "execution_count": 80,
   "metadata": {
    "_cell_guid": "a6baaf84-85b3-49f5-a8f5-10ea58748233",
    "_uuid": "80923a414911004c1469a38efc439fdf84d26b69"
   },
   "outputs": [],
   "source": [
    "df['id'] = df['id'].apply(convert_int)"
   ]
  },
  {
   "cell_type": "code",
   "execution_count": 81,
   "metadata": {
    "_cell_guid": "94e59171-179e-4e8f-8d47-fef16dede5f6",
    "_uuid": "df91192eb93b8ec6696e75c903b298fce9084319"
   },
   "outputs": [
    {
     "data": {
      "text/html": [
       "<div>\n",
       "<style scoped>\n",
       "    .dataframe tbody tr th:only-of-type {\n",
       "        vertical-align: middle;\n",
       "    }\n",
       "\n",
       "    .dataframe tbody tr th {\n",
       "        vertical-align: top;\n",
       "    }\n",
       "\n",
       "    .dataframe thead th {\n",
       "        text-align: right;\n",
       "    }\n",
       "</style>\n",
       "<table border=\"1\" class=\"dataframe\">\n",
       "  <thead>\n",
       "    <tr style=\"text-align: right;\">\n",
       "      <th></th>\n",
       "      <th>belongs_to_collection</th>\n",
       "      <th>budget</th>\n",
       "      <th>genres</th>\n",
       "      <th>homepage</th>\n",
       "      <th>id</th>\n",
       "      <th>original_language</th>\n",
       "      <th>overview</th>\n",
       "      <th>popularity</th>\n",
       "      <th>poster_path</th>\n",
       "      <th>production_companies</th>\n",
       "      <th>...</th>\n",
       "      <th>status</th>\n",
       "      <th>tagline</th>\n",
       "      <th>title</th>\n",
       "      <th>video</th>\n",
       "      <th>vote_average</th>\n",
       "      <th>vote_count</th>\n",
       "      <th>return</th>\n",
       "      <th>year</th>\n",
       "      <th>day</th>\n",
       "      <th>month</th>\n",
       "    </tr>\n",
       "  </thead>\n",
       "  <tbody>\n",
       "    <tr>\n",
       "      <th>19730</th>\n",
       "      <td>0.065736</td>\n",
       "      <td>NaN</td>\n",
       "      <td>[Carousel Productions, Vision View Entertainment, Telescene Film Group Productions]</td>\n",
       "      <td>[{'iso_3166_1': 'CA', 'name': 'Canada'}, {'iso_3166_1': 'LU', 'name': 'Luxembourg'}, {'iso_3166_...</td>\n",
       "      <td>NaN</td>\n",
       "      <td>104.0</td>\n",
       "      <td>Released</td>\n",
       "      <td>NaN</td>\n",
       "      <td>&lt;img src='http://image.tmdb.org/t/p/w185/Midnight Man' style='height:100px;'&gt;</td>\n",
       "      <td>[]</td>\n",
       "      <td>...</td>\n",
       "      <td>NaN</td>\n",
       "      <td>NaN</td>\n",
       "      <td>nan</td>\n",
       "      <td>NaN</td>\n",
       "      <td>NaN</td>\n",
       "      <td>NaN</td>\n",
       "      <td>NaN</td>\n",
       "      <td>NaN</td>\n",
       "      <td>NaN</td>\n",
       "      <td>NaN</td>\n",
       "    </tr>\n",
       "    <tr>\n",
       "      <th>29503</th>\n",
       "      <td>1.931659</td>\n",
       "      <td>NaN</td>\n",
       "      <td>[Aniplex, GoHands, BROSTA TV, Mardock Scramble Production Committee, Sentai Filmworks]</td>\n",
       "      <td>[{'iso_3166_1': 'US', 'name': 'United States of America'}, {'iso_3166_1': 'JP', 'name': 'Japan'}]</td>\n",
       "      <td>NaN</td>\n",
       "      <td>68.0</td>\n",
       "      <td>Released</td>\n",
       "      <td>NaN</td>\n",
       "      <td>&lt;img src='http://image.tmdb.org/t/p/w185/Mardock Scramble: The Third Exhaust' style='height:100p...</td>\n",
       "      <td>[]</td>\n",
       "      <td>...</td>\n",
       "      <td>NaN</td>\n",
       "      <td>NaN</td>\n",
       "      <td>nan</td>\n",
       "      <td>NaN</td>\n",
       "      <td>NaN</td>\n",
       "      <td>NaN</td>\n",
       "      <td>NaN</td>\n",
       "      <td>NaN</td>\n",
       "      <td>NaN</td>\n",
       "      <td>NaN</td>\n",
       "    </tr>\n",
       "    <tr>\n",
       "      <th>35587</th>\n",
       "      <td>2.185485</td>\n",
       "      <td>NaN</td>\n",
       "      <td>[Odyssey Media, Pulser Productions, Rogue State, The Cartel]</td>\n",
       "      <td>[{'iso_3166_1': 'CA', 'name': 'Canada'}]</td>\n",
       "      <td>NaN</td>\n",
       "      <td>82.0</td>\n",
       "      <td>Released</td>\n",
       "      <td>NaN</td>\n",
       "      <td>&lt;img src='http://image.tmdb.org/t/p/w185/Avalanche Sharks' style='height:100px;'&gt;</td>\n",
       "      <td>[]</td>\n",
       "      <td>...</td>\n",
       "      <td>NaN</td>\n",
       "      <td>NaN</td>\n",
       "      <td>nan</td>\n",
       "      <td>NaN</td>\n",
       "      <td>NaN</td>\n",
       "      <td>NaN</td>\n",
       "      <td>NaN</td>\n",
       "      <td>NaN</td>\n",
       "      <td>NaN</td>\n",
       "      <td>NaN</td>\n",
       "    </tr>\n",
       "  </tbody>\n",
       "</table>\n",
       "<p>3 rows × 25 columns</p>\n",
       "</div>"
      ],
      "text/plain": [
       "      belongs_to_collection  budget  \\\n",
       "19730              0.065736     NaN   \n",
       "29503              1.931659     NaN   \n",
       "35587              2.185485     NaN   \n",
       "\n",
       "                                                                                       genres  \\\n",
       "19730     [Carousel Productions, Vision View Entertainment, Telescene Film Group Productions]   \n",
       "29503  [Aniplex, GoHands, BROSTA TV, Mardock Scramble Production Committee, Sentai Filmworks]   \n",
       "35587                            [Odyssey Media, Pulser Productions, Rogue State, The Cartel]   \n",
       "\n",
       "                                                                                                  homepage  \\\n",
       "19730  [{'iso_3166_1': 'CA', 'name': 'Canada'}, {'iso_3166_1': 'LU', 'name': 'Luxembourg'}, {'iso_3166_...   \n",
       "29503    [{'iso_3166_1': 'US', 'name': 'United States of America'}, {'iso_3166_1': 'JP', 'name': 'Japan'}]   \n",
       "35587                                                             [{'iso_3166_1': 'CA', 'name': 'Canada'}]   \n",
       "\n",
       "       id original_language  overview  popularity  \\\n",
       "19730 NaN             104.0  Released         NaN   \n",
       "29503 NaN              68.0  Released         NaN   \n",
       "35587 NaN              82.0  Released         NaN   \n",
       "\n",
       "                                                                                               poster_path  \\\n",
       "19730                        <img src='http://image.tmdb.org/t/p/w185/Midnight Man' style='height:100px;'>   \n",
       "29503  <img src='http://image.tmdb.org/t/p/w185/Mardock Scramble: The Third Exhaust' style='height:100p...   \n",
       "35587                    <img src='http://image.tmdb.org/t/p/w185/Avalanche Sharks' style='height:100px;'>   \n",
       "\n",
       "      production_companies  ...   status tagline  title  video  vote_average  \\\n",
       "19730                   []  ...      NaN     NaN    nan    NaN           NaN   \n",
       "29503                   []  ...      NaN     NaN    nan    NaN           NaN   \n",
       "35587                   []  ...      NaN     NaN    nan    NaN           NaN   \n",
       "\n",
       "      vote_count return year  day  month  \n",
       "19730        NaN    NaN  NaN  NaN    NaN  \n",
       "29503        NaN    NaN  NaN  NaN    NaN  \n",
       "35587        NaN    NaN  NaN  NaN    NaN  \n",
       "\n",
       "[3 rows x 25 columns]"
      ]
     },
     "execution_count": 81,
     "metadata": {},
     "output_type": "execute_result"
    }
   ],
   "source": [
    "df[df['id'].isnull()]"
   ]
  },
  {
   "cell_type": "code",
   "execution_count": 82,
   "metadata": {
    "_cell_guid": "b709e472-9442-4abe-b4a9-dd36fea26a61",
    "_uuid": "f0388a62dcd46ec0f252c111c5d5a3042a47c474"
   },
   "outputs": [],
   "source": [
    "df = df.drop([19730, 29503, 35587])"
   ]
  },
  {
   "cell_type": "code",
   "execution_count": 83,
   "metadata": {
    "_cell_guid": "07edc375-3cdd-45e9-be1d-adc614ea8753",
    "_uuid": "1c705952d2cfd956411b544116d2e83147df8254"
   },
   "outputs": [],
   "source": [
    "df['id'] = df['id'].astype('int')"
   ]
  },
  {
   "cell_type": "code",
   "execution_count": 84,
   "metadata": {
    "_cell_guid": "199e6812-207b-44ff-bf1d-d0a44bfb35c7",
    "_uuid": "e77b026d21f79c76dfb36effaf42a1c6e46ef060"
   },
   "outputs": [
    {
     "data": {
      "text/plain": [
       "(45538, 27)"
      ]
     },
     "execution_count": 84,
     "metadata": {},
     "output_type": "execute_result"
    }
   ],
   "source": [
    "df = df.merge(credits_df, on='id')\n",
    "df.shape"
   ]
  },
  {
   "cell_type": "code",
   "execution_count": 85,
   "metadata": {
    "_cell_guid": "f30fdd03-9813-4d8e-bb75-d403253c8fd2",
    "_uuid": "416abaae3611feb42076450c755cb0f430d9b4ca"
   },
   "outputs": [],
   "source": [
    "df['cast'] = df['cast'].apply(ast.literal_eval)\n",
    "df['crew'] = df['crew'].apply(ast.literal_eval)"
   ]
  },
  {
   "cell_type": "code",
   "execution_count": 86,
   "metadata": {
    "_cell_guid": "1b1f628f-ce24-4a53-9a57-d8726d8ec552",
    "_uuid": "d7fb81f540ac14f4e3faf38033bb2a21d469be16"
   },
   "outputs": [],
   "source": [
    "df['cast_size'] = df['cast'].apply(lambda x: len(x))\n",
    "df['crew_size'] = df['crew'].apply(lambda x: len(x))"
   ]
  },
  {
   "cell_type": "code",
   "execution_count": 87,
   "metadata": {
    "_cell_guid": "1fbf7412-b10b-4c50-8b99-986b7630328a",
    "_uuid": "8ad8b016f37e833af20698073f9ef7bf9851ef90"
   },
   "outputs": [],
   "source": [
    "df['cast'] = df['cast'].apply(lambda x: [i['name'] for i in x] if isinstance(x, list) else [])"
   ]
  },
  {
   "cell_type": "code",
   "execution_count": 88,
   "metadata": {
    "_cell_guid": "dd74ded5-b351-4bf0-aec3-13f765d224f8",
    "_uuid": "00eb91290282069f443ecbf0526d8965f278c35b"
   },
   "outputs": [],
   "source": [
    "def get_director(x):\n",
    "    for i in x:\n",
    "        if i['job'] == 'Director':\n",
    "            return i['name']\n",
    "    return np.nan"
   ]
  },
  {
   "cell_type": "code",
   "execution_count": 89,
   "metadata": {
    "_cell_guid": "0ff6f257-7d38-445f-8749-7ac38c2853ca",
    "_uuid": "4ce9b67217bc82664312554c10a0bac95d063984"
   },
   "outputs": [],
   "source": [
    "df['director'] = df['crew'].apply(get_director)"
   ]
  },
  {
   "cell_type": "code",
   "execution_count": 90,
   "metadata": {
    "_cell_guid": "4d5dd45b-4f2b-4e4a-bfc1-83f0a513a960",
    "_uuid": "a998d3be2ac4ef644dd27a9fc372c74b25622635"
   },
   "outputs": [],
   "source": [
    "s = df.apply(lambda x: pd.Series(x['cast']),axis=1).stack().reset_index(level=1, drop=True)\n",
    "s.name = 'actor'\n",
    "cast_df = df.drop('cast', axis=1).join(s)"
   ]
  },
  {
   "cell_type": "markdown",
   "metadata": {},
   "source": [
    "#### Actors with the Highest Total Revenue"
   ]
  },
  {
   "cell_type": "code",
   "execution_count": 91,
   "metadata": {
    "_cell_guid": "8b19befe-7ec8-4b9a-889e-2d5fffbb784c",
    "_uuid": "a06e199bb19d400a18e2e7ca006cd1e352f5e73a"
   },
   "outputs": [
    {
     "data": {
      "image/png": "[encoded data removed]",
      "text/plain": [
       "<matplotlib.figure.Figure at 0x298b50f1cf8>"
      ]
     },
     "metadata": {},
     "output_type": "display_data"
    }
   ],
   "source": [
    "sns.set_style('whitegrid')\n",
    "plt.title('Actors with the Highest Total Revenue')\n",
    "cast_df.groupby('actor')['revenue'].sum().sort_values(ascending=False).head().plot(kind='bar')\n",
    "plt.show()"
   ]
  },
  {
   "cell_type": "markdown",
   "metadata": {
    "_cell_guid": "e831c9e7-20e0-4dcb-ab04-4dce27678410",
    "_uuid": "f8ade32a73a7329567f99ae785e4bed386261794"
   },
   "source": [
    "#### Directors with the Highest Total Revenue"
   ]
  },
  {
   "cell_type": "code",
   "execution_count": 92,
   "metadata": {
    "_cell_guid": "18251447-63f3-4ab1-bfc2-d4d21f9bb5a0",
    "_uuid": "240847e3df5d42319aef6a184026ab5b8cbc8e86"
   },
   "outputs": [
    {
     "data": {
      "image/png": "[encoded data removed]",
      "text/plain": [
       "<matplotlib.figure.Figure at 0x298b53d9588>"
      ]
     },
     "metadata": {},
     "output_type": "display_data"
    }
   ],
   "source": [
    "plt.title('Directors with the Highest Total Revenue')\n",
    "df.groupby('director')['revenue'].sum().sort_values(ascending=False).head(5).plot(kind='bar', colormap='autumn')\n",
    "plt.show()"
   ]
  },
  {
   "cell_type": "code",
   "execution_count": 93,
   "metadata": {
    "_cell_guid": "db59ef96-39e2-4934-8e16-1caa924bf286",
    "_uuid": "674a16c36ad2c220d33f61544644b1965df38af9"
   },
   "outputs": [],
   "source": [
    "actor_list = cast_df.groupby('actor')['revenue'].count().sort_values(ascending=False)\n",
    "actor_list = list(actor_list[actor_list >= 5].index)\n",
    "director_list = df.groupby('director')['revenue'].count().sort_values(ascending=False)\n",
    "director_list = list(director_list[director_list >= 5].index)"
   ]
  },
  {
   "cell_type": "markdown",
   "metadata": {
    "_cell_guid": "59bc06ba-d5a6-4c93-a191-f82c6ddae8de",
    "_uuid": "586ddd9a20f82ddc34580cb4cdb7761429b467d8"
   },
   "source": [
    "#### Actors with Highest Average Revenue"
   ]
  },
  {
   "cell_type": "code",
   "execution_count": 94,
   "metadata": {
    "_cell_guid": "9083a4c5-718e-4065-ada6-6ab43b734c7e",
    "_uuid": "3adc86c0618dbb0c15f122411c75e0926eecff68"
   },
   "outputs": [
    {
     "data": {
      "image/png": "[encoded data removed]",
      "text/plain": [
       "<matplotlib.figure.Figure at 0x298b50f1d68>"
      ]
     },
     "metadata": {},
     "output_type": "display_data"
    }
   ],
   "source": [
    "plt.title(\"Actors with Highest Average Revenue\")\n",
    "cast_df[cast_df['actor'].isin(actor_list)].groupby('actor')['revenue'].mean().sort_values(ascending=False).head().plot(kind='bar', colormap='Greens_r')\n",
    "plt.show()"
   ]
  },
  {
   "cell_type": "markdown",
   "metadata": {
    "_cell_guid": "db265bcc-b821-44bd-b418-895bb25011c8",
    "_uuid": "016427839b84198bb2e394b09fe414bb02023cd7"
   },
   "source": [
    "#### Directors with Highest Average Revenue"
   ]
  },
  {
   "cell_type": "code",
   "execution_count": 95,
   "metadata": {
    "_cell_guid": "6ebb9851-5628-4e2e-ace6-96d915006ae4",
    "_uuid": "9b485d3ef3c5f58fb10caee19150f49852d1b84c"
   },
   "outputs": [
    {
     "data": {
      "image/png": "[encoded data removed]",
      "text/plain": [
       "<matplotlib.figure.Figure at 0x298b588b400>"
      ]
     },
     "metadata": {},
     "output_type": "display_data"
    }
   ],
   "source": [
    "plt.title(\"Directors with Highest Average Revenue\")\n",
    "df[df['director'].isin(director_list)].groupby('director')['revenue'].mean().sort_values(ascending=False).head().plot(kind='bar', colormap='autumn_r')\n",
    "plt.show()"
   ]
  },
  {
   "cell_type": "markdown",
   "metadata": {
    "_cell_guid": "dacdb6c1-b714-44da-9f00-844602725383",
    "_uuid": "733cbd413f831804592d168c4a3d49ca91e6eda8"
   },
   "source": [
    "## Predict Movie Revenues Using Regression Model"
   ]
  },
  {
   "cell_type": "code",
   "execution_count": 96,
   "metadata": {
    "_cell_guid": "2df5298e-3354-459a-99ac-d45f08a60703",
    "_uuid": "bda956a996e4ec895db002974abab15a806121d4"
   },
   "outputs": [
    {
     "data": {
      "text/plain": [
       "(5393, 30)"
      ]
     },
     "execution_count": 96,
     "metadata": {},
     "output_type": "execute_result"
    }
   ],
   "source": [
    "rgf = df[df['return'].notnull()]\n",
    "rgf.shape"
   ]
  },
  {
   "cell_type": "code",
   "execution_count": 97,
   "metadata": {
    "_cell_guid": "e4df9013-17bb-41c1-b238-b8993a40b045",
    "_uuid": "3d6b3e52be8e46cf59ad9b90b2f31a5396d8131d"
   },
   "outputs": [
    {
     "data": {
      "text/plain": [
       "Index(['belongs_to_collection', 'budget', 'genres', 'homepage', 'id',\n",
       "       'original_language', 'overview', 'popularity', 'poster_path',\n",
       "       'production_companies', 'production_countries', 'release_date',\n",
       "       'revenue', 'runtime', 'spoken_languages', 'status', 'tagline', 'title',\n",
       "       'video', 'vote_average', 'vote_count', 'return', 'year', 'day', 'month',\n",
       "       'cast', 'crew', 'cast_size', 'crew_size', 'director'],\n",
       "      dtype='object')"
      ]
     },
     "execution_count": 97,
     "metadata": {},
     "output_type": "execute_result"
    }
   ],
   "source": [
    "rgf.columns"
   ]
  },
  {
   "cell_type": "code",
   "execution_count": 98,
   "metadata": {
    "_cell_guid": "4f4e2257-06e7-4f87-99b2-f2c69cc498cc",
    "_uuid": "416c3679868cca0b91ed8e8ce7003115334b0074"
   },
   "outputs": [],
   "source": [
    "rgf = rgf.drop(['id', 'overview', 'poster_path', 'release_date', 'status', 'tagline', 'video', 'return', 'crew'], axis=1)"
   ]
  },
  {
   "cell_type": "code",
   "execution_count": 99,
   "metadata": {
    "_cell_guid": "7d267793-43d6-4216-af4f-9220105253ea",
    "_uuid": "7494c716e01919f3f32604065b1077a128f60e79"
   },
   "outputs": [],
   "source": [
    "s = rgf.apply(lambda x: pd.Series(x['genres']),axis=1).stack().reset_index(level=1, drop=True)\n",
    "s.name = 'genre'\n",
    "gen_rgf = rgf.drop('genres', axis=1).join(s)\n",
    "genres_train = gen_rgf['genre'].drop_duplicates()"
   ]
  },
  {
   "cell_type": "code",
   "execution_count": 100,
   "metadata": {
    "_cell_guid": "b663dd18-874a-4cb3-ae0b-dff3c61c791a",
    "_uuid": "5febc08099ab83174e5218146c3feb2818f87b50"
   },
   "outputs": [],
   "source": [
    "def feature_engineering(df):\n",
    "    df['belongs_to_collection'] = df['belongs_to_collection'].apply(lambda x: 0 if x == np.nan else 1)\n",
    "    for genre in genres_train:\n",
    "        df['is_' + str(genre)] = df['genres'].apply(lambda x: 1 if genre in x else 0)\n",
    "    df['genres'] = df['genres'].apply(lambda x: len(x))\n",
    "    df['homepage'] = df['homepage'].apply(lambda x: 0 if x == np.nan else 1)\n",
    "    df['is_english'] = df['original_language'].apply(lambda x: 1 if x=='en' else 0)\n",
    "    df = df.drop('original_language', axis=1)\n",
    "    df['production_companies'] = df['production_companies'].apply(lambda x: len(x))\n",
    "    df['production_countries'] = df['production_countries'].apply(lambda x: len(x))\n",
    "    df['is_Friday'] = df['day'].apply(lambda x: 1 if x=='Fri' else 0)\n",
    "    df = df.drop('day', axis=1)\n",
    "    df['is_Holiday'] = df['month'].apply(lambda x: 1 if x in ['Apr', 'May', 'Jun', 'Nov'] else 0)\n",
    "    df = df.drop('month', axis=1)\n",
    "    df = df.drop(['title', 'cast', 'director'], axis=1)\n",
    "    df = pd.get_dummies(df, prefix='is')\n",
    "    df['runtime'] = df['runtime'].fillna(df['runtime'].mean())\n",
    "    df['vote_average'] = df['vote_average'].fillna(df['vote_average'].mean())\n",
    "    return df"
   ]
  },
  {
   "cell_type": "code",
   "execution_count": 101,
   "metadata": {
    "_cell_guid": "4072fb86-b730-4b23-9493-3d06e0cd49f7",
    "_uuid": "44a734c5aba5387d6acbed12fd5479801e3092fd"
   },
   "outputs": [],
   "source": [
    "X, y = rgf.drop('revenue', axis=1), rgf['revenue']"
   ]
  },
  {
   "cell_type": "code",
   "execution_count": 102,
   "metadata": {
    "_cell_guid": "190c8e59-4eb4-4b1a-ae59-47acb0e5fe76",
    "_uuid": "6ab122ec0ef30637b0d6739843680165ac6822af"
   },
   "outputs": [],
   "source": [
    "X = feature_engineering(X)"
   ]
  },
  {
   "cell_type": "code",
   "execution_count": 103,
   "metadata": {
    "_cell_guid": "dd8dd8db-cf22-436d-a4c4-2553cb859eb4",
    "_uuid": "6c0149dc1f6044015080d22fc186c6e129a9d93a"
   },
   "outputs": [],
   "source": [
    "train_X, test_X, train_y, test_y = train_test_split(X, y, train_size=0.75, test_size=0.25)"
   ]
  },
  {
   "cell_type": "code",
   "execution_count": 104,
   "metadata": {
    "_cell_guid": "41df6726-c3bf-4eab-945f-11903e9296cb",
    "_uuid": "5ddbae87b14b3644b84195dd8513af0d4e43555e"
   },
   "outputs": [
    {
     "data": {
      "text/plain": [
       "(5393, 38)"
      ]
     },
     "execution_count": 104,
     "metadata": {},
     "output_type": "execute_result"
    }
   ],
   "source": [
    "X.shape"
   ]
  },
  {
   "cell_type": "code",
   "execution_count": 105,
   "metadata": {
    "_cell_guid": "09bce1dd-f84f-4cb7-8c42-9a5b4aaf8e01",
    "_uuid": "a5a5b6c388e571fec420b2ae56fada7a29e14445"
   },
   "outputs": [
    {
     "data": {
      "text/plain": [
       "0.76761036130551075"
      ]
     },
     "execution_count": 105,
     "metadata": {},
     "output_type": "execute_result"
    }
   ],
   "source": [
    "reg = GradientBoostingRegressor()\n",
    "reg.fit(train_X, train_y)\n",
    "reg.score(test_X, test_y)"
   ]
  },
  {
   "cell_type": "code",
   "execution_count": 106,
   "metadata": {
    "_cell_guid": "6f9f5b4f-641e-494c-ac4a-584e39f80d8b",
    "_uuid": "5d332ea2206042daf8c3db6414f90bea14ee3b29"
   },
   "outputs": [
    {
     "data": {
      "text/plain": [
       "-0.00093853416643163712"
      ]
     },
     "execution_count": 106,
     "metadata": {},
     "output_type": "execute_result"
    }
   ],
   "source": [
    "dummy = DummyRegressor()\n",
    "dummy.fit(train_X, train_y)\n",
    "dummy.score(test_X, test_y)"
   ]
  },
  {
   "cell_type": "code",
   "execution_count": 107,
   "metadata": {
    "_cell_guid": "485bb892-ae1b-4449-b03e-599694f80e9e",
    "_uuid": "3a4d7157e8f439d612e1a844e394999e7a99818f"
   },
   "outputs": [
    {
     "data": {
      "text/plain": [
       "<matplotlib.axes._subplots.AxesSubplot at 0x298b813dda0>"
      ]
     },
     "execution_count": 107,
     "metadata": {},
     "output_type": "execute_result"
    },
    {
     "data": {
      "image/png": "[encoded data removed]",
      "text/plain": [
       "<matplotlib.figure.Figure at 0x298b81918d0>"
      ]
     },
     "metadata": {},
     "output_type": "display_data"
    }
   ],
   "source": [
    "sns.set_style('whitegrid')\n",
    "plt.figure(figsize=(10,12))\n",
    "sns.barplot(x=reg.feature_importances_, y=X.columns)"
   ]
  },
  {
   "cell_type": "markdown",
   "metadata": {
    "_cell_guid": "6cbc4739-1897-4836-9268-39d315fa293c",
    "_uuid": "f956f951b3c91d68fa70ae39bcdbde81b7cad646",
    "collapsed": true
   },
   "source": [
    "## Predicting Movie Sucess Using Classification Model"
   ]
  },
  {
   "cell_type": "code",
   "execution_count": 108,
   "metadata": {
    "_cell_guid": "a70684bb-c18e-4978-9ab2-8de1443d7b1e",
    "_uuid": "1459d50f5c7c7eccff72749aac92c8313f6dcfdb"
   },
   "outputs": [
    {
     "data": {
      "text/plain": [
       "(5393, 30)"
      ]
     },
     "execution_count": 108,
     "metadata": {},
     "output_type": "execute_result"
    }
   ],
   "source": [
    "cls = df[df['return'].notnull()]\n",
    "cls.shape"
   ]
  },
  {
   "cell_type": "code",
   "execution_count": 109,
   "metadata": {
    "_cell_guid": "6ac30c62-931e-4f21-bb6a-70698ada49c6",
    "_uuid": "48fa3d79d52ddd19b962d8b37625f47e66eeeafe"
   },
   "outputs": [
    {
     "data": {
      "text/plain": [
       "Index(['belongs_to_collection', 'budget', 'genres', 'homepage', 'id',\n",
       "       'original_language', 'overview', 'popularity', 'poster_path',\n",
       "       'production_companies', 'production_countries', 'release_date',\n",
       "       'revenue', 'runtime', 'spoken_languages', 'status', 'tagline', 'title',\n",
       "       'video', 'vote_average', 'vote_count', 'return', 'year', 'day', 'month',\n",
       "       'cast', 'crew', 'cast_size', 'crew_size', 'director'],\n",
       "      dtype='object')"
      ]
     },
     "execution_count": 109,
     "metadata": {},
     "output_type": "execute_result"
    }
   ],
   "source": [
    "cls.columns"
   ]
  },
  {
   "cell_type": "code",
   "execution_count": 110,
   "metadata": {
    "_cell_guid": "dbf4badb-3db6-4511-bdb5-e01f3a42f01e",
    "_uuid": "1bdb2123d7ba44c56647c29804c085ba6db89297"
   },
   "outputs": [],
   "source": [
    "cls = cls.drop(['id', 'overview', 'poster_path', 'release_date', 'status', 'tagline', 'revenue'], axis=1)"
   ]
  },
  {
   "cell_type": "code",
   "execution_count": 111,
   "metadata": {
    "_cell_guid": "fae9fe96-973e-49e7-a3c7-4d6162c2af0e",
    "_uuid": "6c556a638eeaab87e6b187a8720fc95783fd6784"
   },
   "outputs": [],
   "source": [
    "cls['return'] = cls['return'].apply(lambda x: 1 if x >=1 else 0)"
   ]
  },
  {
   "cell_type": "code",
   "execution_count": 112,
   "metadata": {
    "_cell_guid": "d547ebd4-86be-4631-8ed1-1db6970934f5",
    "_uuid": "6d2395f11b69fc3167d3a326a17402e0601d10d1"
   },
   "outputs": [
    {
     "data": {
      "text/plain": [
       "1    3784\n",
       "0    1609\n",
       "Name: return, dtype: int64"
      ]
     },
     "execution_count": 112,
     "metadata": {},
     "output_type": "execute_result"
    }
   ],
   "source": [
    "cls['return'].value_counts()"
   ]
  },
  {
   "cell_type": "code",
   "execution_count": 113,
   "metadata": {
    "_cell_guid": "8c93f598-043f-431e-b440-c2a5273a7f68",
    "_uuid": "e0470b8ccbafd54c52f11582428443b33878220e"
   },
   "outputs": [],
   "source": [
    "cls['belongs_to_collection'] = cls['belongs_to_collection'].fillna('').apply(lambda x: 0 if x == '' else 1)"
   ]
  },
  {
   "cell_type": "code",
   "execution_count": 114,
   "metadata": {
    "_cell_guid": "ed50654d-e319-44f8-b857-d478840a28e4",
    "_uuid": "d4e95f2e68cff6ace2e069d49170f1fd1c8c60d9"
   },
   "outputs": [],
   "source": [
    "s = cls.apply(lambda x: pd.Series(x['genres']),axis=1).stack().reset_index(level=1, drop=True)\n",
    "s.name = 'genre'\n",
    "gen_cls = cls.drop('genres', axis=1).join(s)"
   ]
  },
  {
   "cell_type": "code",
   "execution_count": 115,
   "metadata": {
    "_cell_guid": "d448a450-ef85-4505-874e-5481e2a89468",
    "_uuid": "af73ca3c7770951b0a2febce71d80c468c9b53db"
   },
   "outputs": [
    {
     "data": {
      "text/plain": [
       "Index(['belongs_to_collection', 'budget', 'genres', 'homepage',\n",
       "       'original_language', 'popularity', 'production_companies',\n",
       "       'production_countries', 'runtime', 'spoken_languages', 'title', 'video',\n",
       "       'vote_average', 'vote_count', 'return', 'year', 'day', 'month', 'cast',\n",
       "       'crew', 'cast_size', 'crew_size', 'director'],\n",
       "      dtype='object')"
      ]
     },
     "execution_count": 115,
     "metadata": {},
     "output_type": "execute_result"
    }
   ],
   "source": [
    "cls.columns"
   ]
  },
  {
   "cell_type": "code",
   "execution_count": 116,
   "metadata": {
    "_cell_guid": "f9c4ab54-678f-43a8-99a6-e5cffa59007e",
    "_uuid": "e091f13699b3cc7ca77a69c0f6f9ef4d270783e4"
   },
   "outputs": [],
   "source": [
    "def classification_engineering(df):\n",
    "    for genre in genres_train:\n",
    "        df['is_' + str(genre)] = df['genres'].apply(lambda x: 1 if genre in x else 0)\n",
    "    df['genres'] = df['genres'].apply(lambda x: len(x))\n",
    "    df = df.drop('homepage', axis=1)\n",
    "    df['is_english'] = df['original_language'].apply(lambda x: 1 if x=='en' else 0)\n",
    "    df = df.drop('original_language', axis=1)\n",
    "    df['production_companies'] = df['production_companies'].apply(lambda x: len(x))\n",
    "    df['production_countries'] = df['production_countries'].apply(lambda x: len(x))\n",
    "    df['is_Friday'] = df['day'].apply(lambda x: 1 if x=='Fri' else 0)\n",
    "    df = df.drop('day', axis=1)\n",
    "    df['is_Holiday'] = df['month'].apply(lambda x: 1 if x in ['Apr', 'May', 'Jun', 'Nov'] else 0)\n",
    "    df = df.drop('month', axis=1)\n",
    "    df = df.drop(['title', 'cast', 'director'], axis=1)\n",
    "    #df = pd.get_dummies(df, prefix='is')\n",
    "    df['runtime'] = df['runtime'].fillna(df['runtime'].mean())\n",
    "    df['vote_average'] = df['vote_average'].fillna(df['vote_average'].mean())\n",
    "    df = df.drop('crew', axis=1)\n",
    "    return df\n",
    "    "
   ]
  },
  {
   "cell_type": "code",
   "execution_count": 117,
   "metadata": {
    "_cell_guid": "92719cc8-b0a5-45a0-9985-0d53b80f5137",
    "_uuid": "3d5fe03e840a5b8a1592388f04a100f1e41e527d"
   },
   "outputs": [],
   "source": [
    "cls = classification_engineering(cls)"
   ]
  },
  {
   "cell_type": "code",
   "execution_count": 118,
   "metadata": {
    "_cell_guid": "aa858cfc-6b09-4b59-8b2c-5c4d4233e36a",
    "_uuid": "123339865a20aa9be00b4606e20f8bba04676760"
   },
   "outputs": [
    {
     "data": {
      "text/plain": [
       "Index(['belongs_to_collection', 'budget', 'genres', 'popularity',\n",
       "       'production_companies', 'production_countries', 'runtime',\n",
       "       'spoken_languages', 'video', 'vote_average', 'vote_count', 'return',\n",
       "       'year', 'cast_size', 'crew_size', 'is_Animation', 'is_Comedy',\n",
       "       'is_Family', 'is_Adventure', 'is_Fantasy', 'is_Drama', 'is_Romance',\n",
       "       'is_Action', 'is_Crime', 'is_Thriller', 'is_History',\n",
       "       'is_Science Fiction', 'is_Mystery', 'is_Horror', 'is_War', 'is_Foreign',\n",
       "       'is_Documentary', 'is_Western', 'is_Music', 'is_nan', 'is_TV Movie',\n",
       "       'is_english', 'is_Friday', 'is_Holiday'],\n",
       "      dtype='object')"
      ]
     },
     "execution_count": 118,
     "metadata": {},
     "output_type": "execute_result"
    }
   ],
   "source": [
    "cls.columns"
   ]
  },
  {
   "cell_type": "code",
   "execution_count": 119,
   "metadata": {
    "_cell_guid": "a21faa74-1c61-4742-9746-bc3f394b9974",
    "_uuid": "b0205a24e6143ae7372acb38c5dee362584ca78e"
   },
   "outputs": [],
   "source": [
    "X, y = cls.drop('return', axis=1), cls['return']"
   ]
  },
  {
   "cell_type": "code",
   "execution_count": 120,
   "metadata": {
    "_cell_guid": "831b76dc-7d82-47e2-ac19-b05a3dd5f503",
    "_uuid": "5704343ebceb40629645f7ec1148d70b3d19d82f"
   },
   "outputs": [],
   "source": [
    "train_X, test_X, train_y, test_y = train_test_split(X, y, train_size=0.75, test_size=0.25, stratify=y)"
   ]
  },
  {
   "cell_type": "code",
   "execution_count": 121,
   "metadata": {
    "_cell_guid": "1041ae59-9445-46e3-8ee3-65c4f6f99332",
    "_uuid": "9adb2eaeb4ce954129cb5fa555083f022fb438b3"
   },
   "outputs": [
    {
     "data": {
      "text/plain": [
       "0.77835433654558928"
      ]
     },
     "execution_count": 121,
     "metadata": {},
     "output_type": "execute_result"
    }
   ],
   "source": [
    "clf = GradientBoostingClassifier()\n",
    "clf.fit(train_X, train_y)\n",
    "clf.score(test_X, test_y)"
   ]
  },
  {
   "cell_type": "code",
   "execution_count": 122,
   "metadata": {
    "_cell_guid": "bbd34a52-3ab6-43d6-9c5d-3df27c3f093a",
    "_uuid": "94474a65a2c103dfe4533133b58272a7601ff28a"
   },
   "outputs": [
    {
     "data": {
      "text/plain": [
       "0.70200148257968864"
      ]
     },
     "execution_count": 122,
     "metadata": {},
     "output_type": "execute_result"
    }
   ],
   "source": [
    "dummy = DummyClassifier(strategy='most_frequent')\n",
    "dummy.fit(train_X, train_y)\n",
    "dummy.score(test_X, test_y)"
   ]
  },
  {
   "cell_type": "code",
   "execution_count": 123,
   "metadata": {
    "_cell_guid": "3f95f0c9-f8ed-4bac-8ace-7c786efff10b",
    "_uuid": "1f5a4fe4c37190e32081354f8f1249e6d82964fc"
   },
   "outputs": [
    {
     "data": {
      "text/plain": [
       "<matplotlib.axes._subplots.AxesSubplot at 0x298b52bbc18>"
      ]
     },
     "execution_count": 123,
     "metadata": {},
     "output_type": "execute_result"
    },
    {
     "data": {
      "image/png": "[encoded data removed]",
      "text/plain": [
       "<matplotlib.figure.Figure at 0x298b52bb470>"
      ]
     },
     "metadata": {},
     "output_type": "display_data"
    }
   ],
   "source": [
    "plt.figure(figsize=(10,12))\n",
    "sns.barplot(x=clf.feature_importances_, y=X.columns)"
   ]
  }
 ],
 "metadata": {
  "kernelspec": {
   "display_name": "Python 3",
   "language": "python",
   "name": "python3"
  },
  "language_info": {
   "codemirror_mode": {
    "name": "ipython",
    "version": 3
   },
   "file_extension": ".py",
   "mimetype": "text/x-python",
   "name": "python",
   "nbconvert_exporter": "python",
   "pygments_lexer": "ipython3",
   "version": "3.6.4"
  }
 },
 "nbformat": 4,
 "nbformat_minor": 1
}
